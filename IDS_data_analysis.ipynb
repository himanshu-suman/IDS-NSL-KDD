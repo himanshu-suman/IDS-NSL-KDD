{
 "cells": [
  {
   "cell_type": "code",
   "execution_count": 6,
   "metadata": {
    "executionInfo": {
     "elapsed": 809,
     "status": "ok",
     "timestamp": 1638764666780,
     "user": {
      "displayName": "Himanshu Kumar Suman",
      "photoUrl": "https://lh3.googleusercontent.com/a/default-user=s64",
      "userId": "09836040928709692922"
     },
     "user_tz": -330
    },
    "id": "5Tq6kEc-9-2v"
   },
   "outputs": [],
   "source": [
    "import pandas as pd\n",
    "import numpy as np\n",
    "import matplotlib.pyplot as plt\n",
    "import seaborn as sns"
   ]
  },
  {
   "cell_type": "code",
   "execution_count": 7,
   "metadata": {
    "colab": {
     "base_uri": "https://localhost:8080/"
    },
    "executionInfo": {
     "elapsed": 19376,
     "status": "ok",
     "timestamp": 1638764686552,
     "user": {
      "displayName": "Himanshu Kumar Suman",
      "photoUrl": "https://lh3.googleusercontent.com/a/default-user=s64",
      "userId": "09836040928709692922"
     },
     "user_tz": -330
    },
    "id": "b7H03BoL-fVQ",
    "outputId": "827f9ab3-395e-4bd9-b323-01fbde10a225"
   },
   "outputs": [],
   "source": [
    "# from google.colab import drive\n",
    "# drive.mount('/content/drive')"
   ]
  },
  {
   "cell_type": "code",
   "execution_count": 8,
   "metadata": {
    "executionInfo": {
     "elapsed": 5,
     "status": "ok",
     "timestamp": 1638764686553,
     "user": {
      "displayName": "Himanshu Kumar Suman",
      "photoUrl": "https://lh3.googleusercontent.com/a/default-user=s64",
      "userId": "09836040928709692922"
     },
     "user_tz": -330
    },
    "id": "fC6rQHiYVllK"
   },
   "outputs": [],
   "source": [
    "import warnings\n",
    "warnings.filterwarnings(\"ignore\")"
   ]
  },
  {
   "cell_type": "markdown",
   "metadata": {
    "id": "DceX55_WA-iT"
   },
   "source": [
    "# Loading Data"
   ]
  },
  {
   "cell_type": "code",
   "execution_count": 10,
   "metadata": {
    "executionInfo": {
     "elapsed": 4,
     "status": "ok",
     "timestamp": 1638764686553,
     "user": {
      "displayName": "Himanshu Kumar Suman",
      "photoUrl": "https://lh3.googleusercontent.com/a/default-user=s64",
      "userId": "09836040928709692922"
     },
     "user_tz": -330
    },
    "id": "-6MKidZ0-VGS"
   },
   "outputs": [],
   "source": [
    "file_path_train_data = \"./nsl/KDDTrain+.txt\"\n",
    "file_path_test_data = \"./nsl/KDDTest+.txt\""
   ]
  },
  {
   "cell_type": "code",
   "execution_count": 11,
   "metadata": {
    "executionInfo": {
     "elapsed": 2354,
     "status": "ok",
     "timestamp": 1638764688903,
     "user": {
      "displayName": "Himanshu Kumar Suman",
      "photoUrl": "https://lh3.googleusercontent.com/a/default-user=s64",
      "userId": "09836040928709692922"
     },
     "user_tz": -330
    },
    "id": "ASld5rOIGu1R"
   },
   "outputs": [],
   "source": [
    "train_df = pd.read_csv(file_path_train_data)\n",
    "test_df = pd.read_csv(file_path_test_data)"
   ]
  },
  {
   "cell_type": "markdown",
   "metadata": {
    "id": "g48aqdpnITbm"
   },
   "source": [
    "Adding column names to dataframe (extracted from KDD.arff file)"
   ]
  },
  {
   "cell_type": "code",
   "execution_count": 12,
   "metadata": {
    "executionInfo": {
     "elapsed": 10,
     "status": "ok",
     "timestamp": 1638764688903,
     "user": {
      "displayName": "Himanshu Kumar Suman",
      "photoUrl": "https://lh3.googleusercontent.com/a/default-user=s64",
      "userId": "09836040928709692922"
     },
     "user_tz": -330
    },
    "id": "93QDGKjA-xI8"
   },
   "outputs": [],
   "source": [
    "column_names = ([\n",
    "    'duration',\n",
    "    'protocol_type',\n",
    "    'service',\n",
    "    'flag',\n",
    "    'src_bytes',\n",
    "    'dst_bytes',\n",
    "    'land',\n",
    "    'wrong_fragment',\n",
    "    'urgent',\n",
    "    'hot',\n",
    "    'num_failed_logins',\n",
    "    'logged_in',\n",
    "    'num_compromised',\n",
    "    'root_shell',\n",
    "    'su_attempted',\n",
    "    'num_root',\n",
    "    'num_file_creations',\n",
    "    'num_shells',\n",
    "    'num_access_files',\n",
    "    'num_outbound_cmds',\n",
    "    'is_host_login',\n",
    "    'is_guest_login',\n",
    "    'count',\n",
    "    'srv_count',\n",
    "    'serror_rate',\n",
    "    'srv_serror_rate',\n",
    "    'rerror_rate',\n",
    "    'srv_rerror_rate',\n",
    "    'same_srv_rate',\n",
    "    'diff_srv_rate',\n",
    "    'srv_diff_host_rate',\n",
    "    'dst_host_count',\n",
    "    'dst_host_srv_count',\n",
    "    'dst_host_same_srv_rate',\n",
    "    'dst_host_diff_srv_rate',\n",
    "    'dst_host_same_src_port_rate',\n",
    "    'dst_host_srv_diff_host_rate',\n",
    "    'dst_host_serror_rate',\n",
    "    'dst_host_srv_serror_rate',\n",
    "    'dst_host_rerror_rate',\n",
    "    'dst_host_srv_rerror_rate',\n",
    "    'attack',\n",
    "    'level'\n",
    "])"
   ]
  },
  {
   "cell_type": "code",
   "execution_count": 13,
   "metadata": {
    "colab": {
     "base_uri": "https://localhost:8080/",
     "height": 226
    },
    "executionInfo": {
     "elapsed": 10,
     "status": "ok",
     "timestamp": 1638764688904,
     "user": {
      "displayName": "Himanshu Kumar Suman",
      "photoUrl": "https://lh3.googleusercontent.com/a/default-user=s64",
      "userId": "09836040928709692922"
     },
     "user_tz": -330
    },
    "id": "swwHlYNP_fKm",
    "outputId": "30edb3db-bd5d-4af1-d8b6-6e295c003195"
   },
   "outputs": [
    {
     "data": {
      "text/html": [
       "<div>\n",
       "<style scoped>\n",
       "    .dataframe tbody tr th:only-of-type {\n",
       "        vertical-align: middle;\n",
       "    }\n",
       "\n",
       "    .dataframe tbody tr th {\n",
       "        vertical-align: top;\n",
       "    }\n",
       "\n",
       "    .dataframe thead th {\n",
       "        text-align: right;\n",
       "    }\n",
       "</style>\n",
       "<table border=\"1\" class=\"dataframe\">\n",
       "  <thead>\n",
       "    <tr style=\"text-align: right;\">\n",
       "      <th></th>\n",
       "      <th>duration</th>\n",
       "      <th>protocol_type</th>\n",
       "      <th>service</th>\n",
       "      <th>flag</th>\n",
       "      <th>src_bytes</th>\n",
       "      <th>dst_bytes</th>\n",
       "      <th>land</th>\n",
       "      <th>wrong_fragment</th>\n",
       "      <th>urgent</th>\n",
       "      <th>hot</th>\n",
       "      <th>...</th>\n",
       "      <th>dst_host_same_srv_rate</th>\n",
       "      <th>dst_host_diff_srv_rate</th>\n",
       "      <th>dst_host_same_src_port_rate</th>\n",
       "      <th>dst_host_srv_diff_host_rate</th>\n",
       "      <th>dst_host_serror_rate</th>\n",
       "      <th>dst_host_srv_serror_rate</th>\n",
       "      <th>dst_host_rerror_rate</th>\n",
       "      <th>dst_host_srv_rerror_rate</th>\n",
       "      <th>attack</th>\n",
       "      <th>level</th>\n",
       "    </tr>\n",
       "  </thead>\n",
       "  <tbody>\n",
       "    <tr>\n",
       "      <th>0</th>\n",
       "      <td>0</td>\n",
       "      <td>udp</td>\n",
       "      <td>other</td>\n",
       "      <td>SF</td>\n",
       "      <td>146</td>\n",
       "      <td>0</td>\n",
       "      <td>0</td>\n",
       "      <td>0</td>\n",
       "      <td>0</td>\n",
       "      <td>0</td>\n",
       "      <td>...</td>\n",
       "      <td>0.00</td>\n",
       "      <td>0.60</td>\n",
       "      <td>0.88</td>\n",
       "      <td>0.00</td>\n",
       "      <td>0.00</td>\n",
       "      <td>0.00</td>\n",
       "      <td>0.0</td>\n",
       "      <td>0.00</td>\n",
       "      <td>normal</td>\n",
       "      <td>15</td>\n",
       "    </tr>\n",
       "    <tr>\n",
       "      <th>1</th>\n",
       "      <td>0</td>\n",
       "      <td>tcp</td>\n",
       "      <td>private</td>\n",
       "      <td>S0</td>\n",
       "      <td>0</td>\n",
       "      <td>0</td>\n",
       "      <td>0</td>\n",
       "      <td>0</td>\n",
       "      <td>0</td>\n",
       "      <td>0</td>\n",
       "      <td>...</td>\n",
       "      <td>0.10</td>\n",
       "      <td>0.05</td>\n",
       "      <td>0.00</td>\n",
       "      <td>0.00</td>\n",
       "      <td>1.00</td>\n",
       "      <td>1.00</td>\n",
       "      <td>0.0</td>\n",
       "      <td>0.00</td>\n",
       "      <td>neptune</td>\n",
       "      <td>19</td>\n",
       "    </tr>\n",
       "    <tr>\n",
       "      <th>2</th>\n",
       "      <td>0</td>\n",
       "      <td>tcp</td>\n",
       "      <td>http</td>\n",
       "      <td>SF</td>\n",
       "      <td>232</td>\n",
       "      <td>8153</td>\n",
       "      <td>0</td>\n",
       "      <td>0</td>\n",
       "      <td>0</td>\n",
       "      <td>0</td>\n",
       "      <td>...</td>\n",
       "      <td>1.00</td>\n",
       "      <td>0.00</td>\n",
       "      <td>0.03</td>\n",
       "      <td>0.04</td>\n",
       "      <td>0.03</td>\n",
       "      <td>0.01</td>\n",
       "      <td>0.0</td>\n",
       "      <td>0.01</td>\n",
       "      <td>normal</td>\n",
       "      <td>21</td>\n",
       "    </tr>\n",
       "    <tr>\n",
       "      <th>3</th>\n",
       "      <td>0</td>\n",
       "      <td>tcp</td>\n",
       "      <td>http</td>\n",
       "      <td>SF</td>\n",
       "      <td>199</td>\n",
       "      <td>420</td>\n",
       "      <td>0</td>\n",
       "      <td>0</td>\n",
       "      <td>0</td>\n",
       "      <td>0</td>\n",
       "      <td>...</td>\n",
       "      <td>1.00</td>\n",
       "      <td>0.00</td>\n",
       "      <td>0.00</td>\n",
       "      <td>0.00</td>\n",
       "      <td>0.00</td>\n",
       "      <td>0.00</td>\n",
       "      <td>0.0</td>\n",
       "      <td>0.00</td>\n",
       "      <td>normal</td>\n",
       "      <td>21</td>\n",
       "    </tr>\n",
       "    <tr>\n",
       "      <th>4</th>\n",
       "      <td>0</td>\n",
       "      <td>tcp</td>\n",
       "      <td>private</td>\n",
       "      <td>REJ</td>\n",
       "      <td>0</td>\n",
       "      <td>0</td>\n",
       "      <td>0</td>\n",
       "      <td>0</td>\n",
       "      <td>0</td>\n",
       "      <td>0</td>\n",
       "      <td>...</td>\n",
       "      <td>0.07</td>\n",
       "      <td>0.07</td>\n",
       "      <td>0.00</td>\n",
       "      <td>0.00</td>\n",
       "      <td>0.00</td>\n",
       "      <td>0.00</td>\n",
       "      <td>1.0</td>\n",
       "      <td>1.00</td>\n",
       "      <td>neptune</td>\n",
       "      <td>21</td>\n",
       "    </tr>\n",
       "  </tbody>\n",
       "</table>\n",
       "<p>5 rows × 43 columns</p>\n",
       "</div>"
      ],
      "text/plain": [
       "   duration protocol_type  service flag  src_bytes  dst_bytes  land  \\\n",
       "0         0           udp    other   SF        146          0     0   \n",
       "1         0           tcp  private   S0          0          0     0   \n",
       "2         0           tcp     http   SF        232       8153     0   \n",
       "3         0           tcp     http   SF        199        420     0   \n",
       "4         0           tcp  private  REJ          0          0     0   \n",
       "\n",
       "   wrong_fragment  urgent  hot  ...  dst_host_same_srv_rate  \\\n",
       "0               0       0    0  ...                    0.00   \n",
       "1               0       0    0  ...                    0.10   \n",
       "2               0       0    0  ...                    1.00   \n",
       "3               0       0    0  ...                    1.00   \n",
       "4               0       0    0  ...                    0.07   \n",
       "\n",
       "   dst_host_diff_srv_rate  dst_host_same_src_port_rate  \\\n",
       "0                    0.60                         0.88   \n",
       "1                    0.05                         0.00   \n",
       "2                    0.00                         0.03   \n",
       "3                    0.00                         0.00   \n",
       "4                    0.07                         0.00   \n",
       "\n",
       "   dst_host_srv_diff_host_rate  dst_host_serror_rate  \\\n",
       "0                         0.00                  0.00   \n",
       "1                         0.00                  1.00   \n",
       "2                         0.04                  0.03   \n",
       "3                         0.00                  0.00   \n",
       "4                         0.00                  0.00   \n",
       "\n",
       "   dst_host_srv_serror_rate  dst_host_rerror_rate  dst_host_srv_rerror_rate  \\\n",
       "0                      0.00                   0.0                      0.00   \n",
       "1                      1.00                   0.0                      0.00   \n",
       "2                      0.01                   0.0                      0.01   \n",
       "3                      0.00                   0.0                      0.00   \n",
       "4                      0.00                   1.0                      1.00   \n",
       "\n",
       "    attack  level  \n",
       "0   normal     15  \n",
       "1  neptune     19  \n",
       "2   normal     21  \n",
       "3   normal     21  \n",
       "4  neptune     21  \n",
       "\n",
       "[5 rows x 43 columns]"
      ]
     },
     "execution_count": 13,
     "metadata": {},
     "output_type": "execute_result"
    }
   ],
   "source": [
    "train_df.columns = column_names\n",
    "test_df.columns = column_names\n",
    "train_df.head()"
   ]
  },
  {
   "cell_type": "code",
   "execution_count": 14,
   "metadata": {
    "colab": {
     "base_uri": "https://localhost:8080/"
    },
    "executionInfo": {
     "elapsed": 9,
     "status": "ok",
     "timestamp": 1638764688904,
     "user": {
      "displayName": "Himanshu Kumar Suman",
      "photoUrl": "https://lh3.googleusercontent.com/a/default-user=s64",
      "userId": "09836040928709692922"
     },
     "user_tz": -330
    },
    "id": "Fm2f5fAJAC8c",
    "outputId": "d4ee9fa7-9909-4fcc-e942-306ae5ab3fb6"
   },
   "outputs": [
    {
     "data": {
      "text/plain": [
       "(125972, 43)"
      ]
     },
     "execution_count": 14,
     "metadata": {},
     "output_type": "execute_result"
    }
   ],
   "source": [
    "# shape of the training dataset\n",
    "train_df.shape"
   ]
  },
  {
   "cell_type": "markdown",
   "metadata": {
    "id": "Fe8Tr3LyIFHH"
   },
   "source": [
    "Adding attack_flag to dataframe so that we will be able to classify attacks (here we will test dataset for binary classification)"
   ]
  },
  {
   "cell_type": "code",
   "execution_count": 15,
   "metadata": {
    "executionInfo": {
     "elapsed": 6,
     "status": "ok",
     "timestamp": 1638764688904,
     "user": {
      "displayName": "Himanshu Kumar Suman",
      "photoUrl": "https://lh3.googleusercontent.com/a/default-user=s64",
      "userId": "09836040928709692922"
     },
     "user_tz": -330
    },
    "id": "TyFFF5Ps_i-f"
   },
   "outputs": [],
   "source": [
    "train_df[\"attack_flag\"] = train_df[\"attack\"].map(lambda x: 0 if x==\"normal\" else 1)\n",
    "test_df[\"attack_flag\"] = test_df[\"attack\"].map(lambda x: 0 if x==\"normal\" else 1)"
   ]
  },
  {
   "cell_type": "code",
   "execution_count": 16,
   "metadata": {
    "colab": {
     "base_uri": "https://localhost:8080/",
     "height": 226
    },
    "executionInfo": {
     "elapsed": 6,
     "status": "ok",
     "timestamp": 1638764688904,
     "user": {
      "displayName": "Himanshu Kumar Suman",
      "photoUrl": "https://lh3.googleusercontent.com/a/default-user=s64",
      "userId": "09836040928709692922"
     },
     "user_tz": -330
    },
    "id": "KglUw65tHbnr",
    "outputId": "6bafc789-1d10-4202-f31f-e50151473916"
   },
   "outputs": [
    {
     "data": {
      "text/html": [
       "<div>\n",
       "<style scoped>\n",
       "    .dataframe tbody tr th:only-of-type {\n",
       "        vertical-align: middle;\n",
       "    }\n",
       "\n",
       "    .dataframe tbody tr th {\n",
       "        vertical-align: top;\n",
       "    }\n",
       "\n",
       "    .dataframe thead th {\n",
       "        text-align: right;\n",
       "    }\n",
       "</style>\n",
       "<table border=\"1\" class=\"dataframe\">\n",
       "  <thead>\n",
       "    <tr style=\"text-align: right;\">\n",
       "      <th></th>\n",
       "      <th>duration</th>\n",
       "      <th>protocol_type</th>\n",
       "      <th>service</th>\n",
       "      <th>flag</th>\n",
       "      <th>src_bytes</th>\n",
       "      <th>dst_bytes</th>\n",
       "      <th>land</th>\n",
       "      <th>wrong_fragment</th>\n",
       "      <th>urgent</th>\n",
       "      <th>hot</th>\n",
       "      <th>...</th>\n",
       "      <th>dst_host_diff_srv_rate</th>\n",
       "      <th>dst_host_same_src_port_rate</th>\n",
       "      <th>dst_host_srv_diff_host_rate</th>\n",
       "      <th>dst_host_serror_rate</th>\n",
       "      <th>dst_host_srv_serror_rate</th>\n",
       "      <th>dst_host_rerror_rate</th>\n",
       "      <th>dst_host_srv_rerror_rate</th>\n",
       "      <th>attack</th>\n",
       "      <th>level</th>\n",
       "      <th>attack_flag</th>\n",
       "    </tr>\n",
       "  </thead>\n",
       "  <tbody>\n",
       "    <tr>\n",
       "      <th>0</th>\n",
       "      <td>0</td>\n",
       "      <td>udp</td>\n",
       "      <td>other</td>\n",
       "      <td>SF</td>\n",
       "      <td>146</td>\n",
       "      <td>0</td>\n",
       "      <td>0</td>\n",
       "      <td>0</td>\n",
       "      <td>0</td>\n",
       "      <td>0</td>\n",
       "      <td>...</td>\n",
       "      <td>0.60</td>\n",
       "      <td>0.88</td>\n",
       "      <td>0.00</td>\n",
       "      <td>0.00</td>\n",
       "      <td>0.00</td>\n",
       "      <td>0.0</td>\n",
       "      <td>0.00</td>\n",
       "      <td>normal</td>\n",
       "      <td>15</td>\n",
       "      <td>0</td>\n",
       "    </tr>\n",
       "    <tr>\n",
       "      <th>1</th>\n",
       "      <td>0</td>\n",
       "      <td>tcp</td>\n",
       "      <td>private</td>\n",
       "      <td>S0</td>\n",
       "      <td>0</td>\n",
       "      <td>0</td>\n",
       "      <td>0</td>\n",
       "      <td>0</td>\n",
       "      <td>0</td>\n",
       "      <td>0</td>\n",
       "      <td>...</td>\n",
       "      <td>0.05</td>\n",
       "      <td>0.00</td>\n",
       "      <td>0.00</td>\n",
       "      <td>1.00</td>\n",
       "      <td>1.00</td>\n",
       "      <td>0.0</td>\n",
       "      <td>0.00</td>\n",
       "      <td>neptune</td>\n",
       "      <td>19</td>\n",
       "      <td>1</td>\n",
       "    </tr>\n",
       "    <tr>\n",
       "      <th>2</th>\n",
       "      <td>0</td>\n",
       "      <td>tcp</td>\n",
       "      <td>http</td>\n",
       "      <td>SF</td>\n",
       "      <td>232</td>\n",
       "      <td>8153</td>\n",
       "      <td>0</td>\n",
       "      <td>0</td>\n",
       "      <td>0</td>\n",
       "      <td>0</td>\n",
       "      <td>...</td>\n",
       "      <td>0.00</td>\n",
       "      <td>0.03</td>\n",
       "      <td>0.04</td>\n",
       "      <td>0.03</td>\n",
       "      <td>0.01</td>\n",
       "      <td>0.0</td>\n",
       "      <td>0.01</td>\n",
       "      <td>normal</td>\n",
       "      <td>21</td>\n",
       "      <td>0</td>\n",
       "    </tr>\n",
       "    <tr>\n",
       "      <th>3</th>\n",
       "      <td>0</td>\n",
       "      <td>tcp</td>\n",
       "      <td>http</td>\n",
       "      <td>SF</td>\n",
       "      <td>199</td>\n",
       "      <td>420</td>\n",
       "      <td>0</td>\n",
       "      <td>0</td>\n",
       "      <td>0</td>\n",
       "      <td>0</td>\n",
       "      <td>...</td>\n",
       "      <td>0.00</td>\n",
       "      <td>0.00</td>\n",
       "      <td>0.00</td>\n",
       "      <td>0.00</td>\n",
       "      <td>0.00</td>\n",
       "      <td>0.0</td>\n",
       "      <td>0.00</td>\n",
       "      <td>normal</td>\n",
       "      <td>21</td>\n",
       "      <td>0</td>\n",
       "    </tr>\n",
       "    <tr>\n",
       "      <th>4</th>\n",
       "      <td>0</td>\n",
       "      <td>tcp</td>\n",
       "      <td>private</td>\n",
       "      <td>REJ</td>\n",
       "      <td>0</td>\n",
       "      <td>0</td>\n",
       "      <td>0</td>\n",
       "      <td>0</td>\n",
       "      <td>0</td>\n",
       "      <td>0</td>\n",
       "      <td>...</td>\n",
       "      <td>0.07</td>\n",
       "      <td>0.00</td>\n",
       "      <td>0.00</td>\n",
       "      <td>0.00</td>\n",
       "      <td>0.00</td>\n",
       "      <td>1.0</td>\n",
       "      <td>1.00</td>\n",
       "      <td>neptune</td>\n",
       "      <td>21</td>\n",
       "      <td>1</td>\n",
       "    </tr>\n",
       "  </tbody>\n",
       "</table>\n",
       "<p>5 rows × 44 columns</p>\n",
       "</div>"
      ],
      "text/plain": [
       "   duration protocol_type  service flag  src_bytes  dst_bytes  land  \\\n",
       "0         0           udp    other   SF        146          0     0   \n",
       "1         0           tcp  private   S0          0          0     0   \n",
       "2         0           tcp     http   SF        232       8153     0   \n",
       "3         0           tcp     http   SF        199        420     0   \n",
       "4         0           tcp  private  REJ          0          0     0   \n",
       "\n",
       "   wrong_fragment  urgent  hot  ...  dst_host_diff_srv_rate  \\\n",
       "0               0       0    0  ...                    0.60   \n",
       "1               0       0    0  ...                    0.05   \n",
       "2               0       0    0  ...                    0.00   \n",
       "3               0       0    0  ...                    0.00   \n",
       "4               0       0    0  ...                    0.07   \n",
       "\n",
       "   dst_host_same_src_port_rate  dst_host_srv_diff_host_rate  \\\n",
       "0                         0.88                         0.00   \n",
       "1                         0.00                         0.00   \n",
       "2                         0.03                         0.04   \n",
       "3                         0.00                         0.00   \n",
       "4                         0.00                         0.00   \n",
       "\n",
       "   dst_host_serror_rate  dst_host_srv_serror_rate  dst_host_rerror_rate  \\\n",
       "0                  0.00                      0.00                   0.0   \n",
       "1                  1.00                      1.00                   0.0   \n",
       "2                  0.03                      0.01                   0.0   \n",
       "3                  0.00                      0.00                   0.0   \n",
       "4                  0.00                      0.00                   1.0   \n",
       "\n",
       "   dst_host_srv_rerror_rate   attack  level  attack_flag  \n",
       "0                      0.00   normal     15            0  \n",
       "1                      0.00  neptune     19            1  \n",
       "2                      0.01   normal     21            0  \n",
       "3                      0.00   normal     21            0  \n",
       "4                      1.00  neptune     21            1  \n",
       "\n",
       "[5 rows x 44 columns]"
      ]
     },
     "execution_count": 16,
     "metadata": {},
     "output_type": "execute_result"
    }
   ],
   "source": [
    "train_df.head()\n",
    "# test_df.head()"
   ]
  },
  {
   "cell_type": "markdown",
   "metadata": {
    "id": "JUdnZ1FvIr1Z"
   },
   "source": [
    "4 major attacks have been described in the KDD dataset"
   ]
  },
  {
   "cell_type": "code",
   "execution_count": 17,
   "metadata": {
    "executionInfo": {
     "elapsed": 1034,
     "status": "ok",
     "timestamp": 1638764689933,
     "user": {
      "displayName": "Himanshu Kumar Suman",
      "photoUrl": "https://lh3.googleusercontent.com/a/default-user=s64",
      "userId": "09836040928709692922"
     },
     "user_tz": -330
    },
    "id": "yol2JRLtHoEa"
   },
   "outputs": [],
   "source": [
    "dos_attacks = ['apache2','back','land','neptune','mailbomb','pod','processtable','smurf','teardrop','udpstorm','worm']\n",
    "probe_attacks = ['ipsweep','mscan','nmap','portsweep','saint','satan']\n",
    "privilege_attacks = ['buffer_overflow','loadmdoule','perl','ps','rootkit','sqlattack','xterm']\n",
    "access_attacks = ['ftp_write','guess_passwd','http_tunnel','imap','multihop','named','phf','sendmail','snmpgetattack',\n",
    "                  'snmpguess','spy','warezclient','warezmaster','xclock','xsnoop']\n",
    "attack_labels = ['Normal','DoS','Probe','Privilege','Access']"
   ]
  },
  {
   "cell_type": "code",
   "execution_count": 18,
   "metadata": {
    "executionInfo": {
     "elapsed": 1037,
     "status": "ok",
     "timestamp": 1638764689936,
     "user": {
      "displayName": "Himanshu Kumar Suman",
      "photoUrl": "https://lh3.googleusercontent.com/a/default-user=s64",
      "userId": "09836040928709692922"
     },
     "user_tz": -330
    },
    "id": "h2hx8qtjIrE2"
   },
   "outputs": [],
   "source": [
    "def get_attack_num(attack):\n",
    "    if attack in dos_attacks:\n",
    "        return 1\n",
    "    elif attack in probe_attacks:\n",
    "        return 2\n",
    "    elif attack in privilege_attacks:\n",
    "        return 3\n",
    "    elif attack in access_attacks:\n",
    "        return 4\n",
    "    # map to normal\n",
    "    return 0"
   ]
  },
  {
   "cell_type": "code",
   "execution_count": 19,
   "metadata": {
    "executionInfo": {
     "elapsed": 14,
     "status": "ok",
     "timestamp": 1638764689936,
     "user": {
      "displayName": "Himanshu Kumar Suman",
      "photoUrl": "https://lh3.googleusercontent.com/a/default-user=s64",
      "userId": "09836040928709692922"
     },
     "user_tz": -330
    },
    "id": "OpbAG62sJLfM"
   },
   "outputs": [],
   "source": [
    "# apply to training data\n",
    "attack_map = train_df[\"attack\"].apply(get_attack_num)\n",
    "train_df[\"attack_map\"] = attack_map\n",
    "\n",
    "# apply to testing data\n",
    "attack_map = test_df[\"attack\"].apply(get_attack_num)\n",
    "test_df[\"attack_map\"] = attack_map"
   ]
  },
  {
   "cell_type": "code",
   "execution_count": 20,
   "metadata": {
    "colab": {
     "base_uri": "https://localhost:8080/",
     "height": 243
    },
    "executionInfo": {
     "elapsed": 14,
     "status": "ok",
     "timestamp": 1638764689936,
     "user": {
      "displayName": "Himanshu Kumar Suman",
      "photoUrl": "https://lh3.googleusercontent.com/a/default-user=s64",
      "userId": "09836040928709692922"
     },
     "user_tz": -330
    },
    "id": "EMFSp9VVKPMZ",
    "outputId": "b4552f4b-f280-413a-fe95-38d4525dc272"
   },
   "outputs": [
    {
     "name": "stdout",
     "output_type": "stream",
     "text": [
      "dimensions = (125972, 45)\n"
     ]
    },
    {
     "data": {
      "text/html": [
       "<div>\n",
       "<style scoped>\n",
       "    .dataframe tbody tr th:only-of-type {\n",
       "        vertical-align: middle;\n",
       "    }\n",
       "\n",
       "    .dataframe tbody tr th {\n",
       "        vertical-align: top;\n",
       "    }\n",
       "\n",
       "    .dataframe thead th {\n",
       "        text-align: right;\n",
       "    }\n",
       "</style>\n",
       "<table border=\"1\" class=\"dataframe\">\n",
       "  <thead>\n",
       "    <tr style=\"text-align: right;\">\n",
       "      <th></th>\n",
       "      <th>duration</th>\n",
       "      <th>protocol_type</th>\n",
       "      <th>service</th>\n",
       "      <th>flag</th>\n",
       "      <th>src_bytes</th>\n",
       "      <th>dst_bytes</th>\n",
       "      <th>land</th>\n",
       "      <th>wrong_fragment</th>\n",
       "      <th>urgent</th>\n",
       "      <th>hot</th>\n",
       "      <th>...</th>\n",
       "      <th>dst_host_same_src_port_rate</th>\n",
       "      <th>dst_host_srv_diff_host_rate</th>\n",
       "      <th>dst_host_serror_rate</th>\n",
       "      <th>dst_host_srv_serror_rate</th>\n",
       "      <th>dst_host_rerror_rate</th>\n",
       "      <th>dst_host_srv_rerror_rate</th>\n",
       "      <th>attack</th>\n",
       "      <th>level</th>\n",
       "      <th>attack_flag</th>\n",
       "      <th>attack_map</th>\n",
       "    </tr>\n",
       "  </thead>\n",
       "  <tbody>\n",
       "    <tr>\n",
       "      <th>0</th>\n",
       "      <td>0</td>\n",
       "      <td>udp</td>\n",
       "      <td>other</td>\n",
       "      <td>SF</td>\n",
       "      <td>146</td>\n",
       "      <td>0</td>\n",
       "      <td>0</td>\n",
       "      <td>0</td>\n",
       "      <td>0</td>\n",
       "      <td>0</td>\n",
       "      <td>...</td>\n",
       "      <td>0.88</td>\n",
       "      <td>0.00</td>\n",
       "      <td>0.00</td>\n",
       "      <td>0.00</td>\n",
       "      <td>0.0</td>\n",
       "      <td>0.00</td>\n",
       "      <td>normal</td>\n",
       "      <td>15</td>\n",
       "      <td>0</td>\n",
       "      <td>0</td>\n",
       "    </tr>\n",
       "    <tr>\n",
       "      <th>1</th>\n",
       "      <td>0</td>\n",
       "      <td>tcp</td>\n",
       "      <td>private</td>\n",
       "      <td>S0</td>\n",
       "      <td>0</td>\n",
       "      <td>0</td>\n",
       "      <td>0</td>\n",
       "      <td>0</td>\n",
       "      <td>0</td>\n",
       "      <td>0</td>\n",
       "      <td>...</td>\n",
       "      <td>0.00</td>\n",
       "      <td>0.00</td>\n",
       "      <td>1.00</td>\n",
       "      <td>1.00</td>\n",
       "      <td>0.0</td>\n",
       "      <td>0.00</td>\n",
       "      <td>neptune</td>\n",
       "      <td>19</td>\n",
       "      <td>1</td>\n",
       "      <td>1</td>\n",
       "    </tr>\n",
       "    <tr>\n",
       "      <th>2</th>\n",
       "      <td>0</td>\n",
       "      <td>tcp</td>\n",
       "      <td>http</td>\n",
       "      <td>SF</td>\n",
       "      <td>232</td>\n",
       "      <td>8153</td>\n",
       "      <td>0</td>\n",
       "      <td>0</td>\n",
       "      <td>0</td>\n",
       "      <td>0</td>\n",
       "      <td>...</td>\n",
       "      <td>0.03</td>\n",
       "      <td>0.04</td>\n",
       "      <td>0.03</td>\n",
       "      <td>0.01</td>\n",
       "      <td>0.0</td>\n",
       "      <td>0.01</td>\n",
       "      <td>normal</td>\n",
       "      <td>21</td>\n",
       "      <td>0</td>\n",
       "      <td>0</td>\n",
       "    </tr>\n",
       "    <tr>\n",
       "      <th>3</th>\n",
       "      <td>0</td>\n",
       "      <td>tcp</td>\n",
       "      <td>http</td>\n",
       "      <td>SF</td>\n",
       "      <td>199</td>\n",
       "      <td>420</td>\n",
       "      <td>0</td>\n",
       "      <td>0</td>\n",
       "      <td>0</td>\n",
       "      <td>0</td>\n",
       "      <td>...</td>\n",
       "      <td>0.00</td>\n",
       "      <td>0.00</td>\n",
       "      <td>0.00</td>\n",
       "      <td>0.00</td>\n",
       "      <td>0.0</td>\n",
       "      <td>0.00</td>\n",
       "      <td>normal</td>\n",
       "      <td>21</td>\n",
       "      <td>0</td>\n",
       "      <td>0</td>\n",
       "    </tr>\n",
       "    <tr>\n",
       "      <th>4</th>\n",
       "      <td>0</td>\n",
       "      <td>tcp</td>\n",
       "      <td>private</td>\n",
       "      <td>REJ</td>\n",
       "      <td>0</td>\n",
       "      <td>0</td>\n",
       "      <td>0</td>\n",
       "      <td>0</td>\n",
       "      <td>0</td>\n",
       "      <td>0</td>\n",
       "      <td>...</td>\n",
       "      <td>0.00</td>\n",
       "      <td>0.00</td>\n",
       "      <td>0.00</td>\n",
       "      <td>0.00</td>\n",
       "      <td>1.0</td>\n",
       "      <td>1.00</td>\n",
       "      <td>neptune</td>\n",
       "      <td>21</td>\n",
       "      <td>1</td>\n",
       "      <td>1</td>\n",
       "    </tr>\n",
       "  </tbody>\n",
       "</table>\n",
       "<p>5 rows × 45 columns</p>\n",
       "</div>"
      ],
      "text/plain": [
       "   duration protocol_type  service flag  src_bytes  dst_bytes  land  \\\n",
       "0         0           udp    other   SF        146          0     0   \n",
       "1         0           tcp  private   S0          0          0     0   \n",
       "2         0           tcp     http   SF        232       8153     0   \n",
       "3         0           tcp     http   SF        199        420     0   \n",
       "4         0           tcp  private  REJ          0          0     0   \n",
       "\n",
       "   wrong_fragment  urgent  hot  ...  dst_host_same_src_port_rate  \\\n",
       "0               0       0    0  ...                         0.88   \n",
       "1               0       0    0  ...                         0.00   \n",
       "2               0       0    0  ...                         0.03   \n",
       "3               0       0    0  ...                         0.00   \n",
       "4               0       0    0  ...                         0.00   \n",
       "\n",
       "   dst_host_srv_diff_host_rate  dst_host_serror_rate  \\\n",
       "0                         0.00                  0.00   \n",
       "1                         0.00                  1.00   \n",
       "2                         0.04                  0.03   \n",
       "3                         0.00                  0.00   \n",
       "4                         0.00                  0.00   \n",
       "\n",
       "   dst_host_srv_serror_rate  dst_host_rerror_rate  dst_host_srv_rerror_rate  \\\n",
       "0                      0.00                   0.0                      0.00   \n",
       "1                      1.00                   0.0                      0.00   \n",
       "2                      0.01                   0.0                      0.01   \n",
       "3                      0.00                   0.0                      0.00   \n",
       "4                      0.00                   1.0                      1.00   \n",
       "\n",
       "    attack  level  attack_flag  attack_map  \n",
       "0   normal     15            0           0  \n",
       "1  neptune     19            1           1  \n",
       "2   normal     21            0           0  \n",
       "3   normal     21            0           0  \n",
       "4  neptune     21            1           1  \n",
       "\n",
       "[5 rows x 45 columns]"
      ]
     },
     "execution_count": 20,
     "metadata": {},
     "output_type": "execute_result"
    }
   ],
   "source": [
    "print(\"dimensions =\", train_df.shape)\n",
    "train_df.head()"
   ]
  },
  {
   "cell_type": "markdown",
   "metadata": {
    "id": "YS_aPrIfK2xc"
   },
   "source": [
    "# Attack vs Protocol"
   ]
  },
  {
   "cell_type": "code",
   "execution_count": 21,
   "metadata": {
    "colab": {
     "base_uri": "https://localhost:8080/",
     "height": 802
    },
    "executionInfo": {
     "elapsed": 12,
     "status": "ok",
     "timestamp": 1638764689937,
     "user": {
      "displayName": "Himanshu Kumar Suman",
      "photoUrl": "https://lh3.googleusercontent.com/a/default-user=s64",
      "userId": "09836040928709692922"
     },
     "user_tz": -330
    },
    "id": "K99T_IgwKVB9",
    "outputId": "0d88e2b8-223b-4edb-ebbd-937ff5bea402"
   },
   "outputs": [
    {
     "data": {
      "text/html": [
       "<div>\n",
       "<style scoped>\n",
       "    .dataframe tbody tr th:only-of-type {\n",
       "        vertical-align: middle;\n",
       "    }\n",
       "\n",
       "    .dataframe tbody tr th {\n",
       "        vertical-align: top;\n",
       "    }\n",
       "\n",
       "    .dataframe thead th {\n",
       "        text-align: right;\n",
       "    }\n",
       "</style>\n",
       "<table border=\"1\" class=\"dataframe\">\n",
       "  <thead>\n",
       "    <tr style=\"text-align: right;\">\n",
       "      <th>protocol_type</th>\n",
       "      <th>icmp</th>\n",
       "      <th>tcp</th>\n",
       "      <th>udp</th>\n",
       "    </tr>\n",
       "    <tr>\n",
       "      <th>attack</th>\n",
       "      <th></th>\n",
       "      <th></th>\n",
       "      <th></th>\n",
       "    </tr>\n",
       "  </thead>\n",
       "  <tbody>\n",
       "    <tr>\n",
       "      <th>back</th>\n",
       "      <td>0</td>\n",
       "      <td>956</td>\n",
       "      <td>0</td>\n",
       "    </tr>\n",
       "    <tr>\n",
       "      <th>buffer_overflow</th>\n",
       "      <td>0</td>\n",
       "      <td>30</td>\n",
       "      <td>0</td>\n",
       "    </tr>\n",
       "    <tr>\n",
       "      <th>ftp_write</th>\n",
       "      <td>0</td>\n",
       "      <td>8</td>\n",
       "      <td>0</td>\n",
       "    </tr>\n",
       "    <tr>\n",
       "      <th>guess_passwd</th>\n",
       "      <td>0</td>\n",
       "      <td>53</td>\n",
       "      <td>0</td>\n",
       "    </tr>\n",
       "    <tr>\n",
       "      <th>imap</th>\n",
       "      <td>0</td>\n",
       "      <td>11</td>\n",
       "      <td>0</td>\n",
       "    </tr>\n",
       "    <tr>\n",
       "      <th>ipsweep</th>\n",
       "      <td>3117</td>\n",
       "      <td>482</td>\n",
       "      <td>0</td>\n",
       "    </tr>\n",
       "    <tr>\n",
       "      <th>land</th>\n",
       "      <td>0</td>\n",
       "      <td>18</td>\n",
       "      <td>0</td>\n",
       "    </tr>\n",
       "    <tr>\n",
       "      <th>loadmodule</th>\n",
       "      <td>0</td>\n",
       "      <td>9</td>\n",
       "      <td>0</td>\n",
       "    </tr>\n",
       "    <tr>\n",
       "      <th>multihop</th>\n",
       "      <td>0</td>\n",
       "      <td>7</td>\n",
       "      <td>0</td>\n",
       "    </tr>\n",
       "    <tr>\n",
       "      <th>neptune</th>\n",
       "      <td>0</td>\n",
       "      <td>41214</td>\n",
       "      <td>0</td>\n",
       "    </tr>\n",
       "    <tr>\n",
       "      <th>nmap</th>\n",
       "      <td>981</td>\n",
       "      <td>265</td>\n",
       "      <td>247</td>\n",
       "    </tr>\n",
       "    <tr>\n",
       "      <th>normal</th>\n",
       "      <td>1309</td>\n",
       "      <td>53599</td>\n",
       "      <td>12434</td>\n",
       "    </tr>\n",
       "    <tr>\n",
       "      <th>perl</th>\n",
       "      <td>0</td>\n",
       "      <td>3</td>\n",
       "      <td>0</td>\n",
       "    </tr>\n",
       "    <tr>\n",
       "      <th>phf</th>\n",
       "      <td>0</td>\n",
       "      <td>4</td>\n",
       "      <td>0</td>\n",
       "    </tr>\n",
       "    <tr>\n",
       "      <th>pod</th>\n",
       "      <td>201</td>\n",
       "      <td>0</td>\n",
       "      <td>0</td>\n",
       "    </tr>\n",
       "    <tr>\n",
       "      <th>portsweep</th>\n",
       "      <td>5</td>\n",
       "      <td>2926</td>\n",
       "      <td>0</td>\n",
       "    </tr>\n",
       "    <tr>\n",
       "      <th>rootkit</th>\n",
       "      <td>0</td>\n",
       "      <td>7</td>\n",
       "      <td>3</td>\n",
       "    </tr>\n",
       "    <tr>\n",
       "      <th>satan</th>\n",
       "      <td>32</td>\n",
       "      <td>2184</td>\n",
       "      <td>1417</td>\n",
       "    </tr>\n",
       "    <tr>\n",
       "      <th>smurf</th>\n",
       "      <td>2646</td>\n",
       "      <td>0</td>\n",
       "      <td>0</td>\n",
       "    </tr>\n",
       "    <tr>\n",
       "      <th>spy</th>\n",
       "      <td>0</td>\n",
       "      <td>2</td>\n",
       "      <td>0</td>\n",
       "    </tr>\n",
       "    <tr>\n",
       "      <th>teardrop</th>\n",
       "      <td>0</td>\n",
       "      <td>0</td>\n",
       "      <td>892</td>\n",
       "    </tr>\n",
       "    <tr>\n",
       "      <th>warezclient</th>\n",
       "      <td>0</td>\n",
       "      <td>890</td>\n",
       "      <td>0</td>\n",
       "    </tr>\n",
       "    <tr>\n",
       "      <th>warezmaster</th>\n",
       "      <td>0</td>\n",
       "      <td>20</td>\n",
       "      <td>0</td>\n",
       "    </tr>\n",
       "  </tbody>\n",
       "</table>\n",
       "</div>"
      ],
      "text/plain": [
       "protocol_type    icmp    tcp    udp\n",
       "attack                             \n",
       "back                0    956      0\n",
       "buffer_overflow     0     30      0\n",
       "ftp_write           0      8      0\n",
       "guess_passwd        0     53      0\n",
       "imap                0     11      0\n",
       "ipsweep          3117    482      0\n",
       "land                0     18      0\n",
       "loadmodule          0      9      0\n",
       "multihop            0      7      0\n",
       "neptune             0  41214      0\n",
       "nmap              981    265    247\n",
       "normal           1309  53599  12434\n",
       "perl                0      3      0\n",
       "phf                 0      4      0\n",
       "pod               201      0      0\n",
       "portsweep           5   2926      0\n",
       "rootkit             0      7      3\n",
       "satan              32   2184   1417\n",
       "smurf            2646      0      0\n",
       "spy                 0      2      0\n",
       "teardrop            0      0    892\n",
       "warezclient         0    890      0\n",
       "warezmaster         0     20      0"
      ]
     },
     "execution_count": 21,
     "metadata": {},
     "output_type": "execute_result"
    }
   ],
   "source": [
    "cross_table = pd.crosstab(train_df[\"attack\"], train_df[\"protocol_type\"])\n",
    "# type(cross_table)\n",
    "cross_table"
   ]
  },
  {
   "cell_type": "code",
   "execution_count": 22,
   "metadata": {
    "colab": {
     "base_uri": "https://localhost:8080/"
    },
    "executionInfo": {
     "elapsed": 12,
     "status": "ok",
     "timestamp": 1638764689937,
     "user": {
      "displayName": "Himanshu Kumar Suman",
      "photoUrl": "https://lh3.googleusercontent.com/a/default-user=s64",
      "userId": "09836040928709692922"
     },
     "user_tz": -330
    },
    "id": "mEgIwIA9LsMD",
    "outputId": "40b358bd-522b-4f94-f820-a25d5780fa8c"
   },
   "outputs": [
    {
     "data": {
      "text/plain": [
       "array(['back', 'buffer_overflow', 'ftp_write', 'guess_passwd', 'imap',\n",
       "       'ipsweep', 'land', 'loadmodule', 'multihop', 'neptune', 'nmap',\n",
       "       'normal', 'perl', 'phf', 'pod', 'portsweep', 'rootkit', 'satan',\n",
       "       'smurf', 'spy', 'teardrop', 'warezclient', 'warezmaster'],\n",
       "      dtype=object)"
      ]
     },
     "execution_count": 22,
     "metadata": {},
     "output_type": "execute_result"
    }
   ],
   "source": [
    "cross_table.index.values"
   ]
  },
  {
   "cell_type": "code",
   "execution_count": 23,
   "metadata": {
    "executionInfo": {
     "elapsed": 10,
     "status": "ok",
     "timestamp": 1638764689937,
     "user": {
      "displayName": "Himanshu Kumar Suman",
      "photoUrl": "https://lh3.googleusercontent.com/a/default-user=s64",
      "userId": "09836040928709692922"
     },
     "user_tz": -330
    },
    "id": "Hh5iSDz_GWyD"
   },
   "outputs": [],
   "source": [
    "# plt.rcParams[\"figure.figsize\"] = [8, 12]\n",
    "# plt.rcParams[\"figure.autolayout\"] = True\n",
    "plt.rcdefaults()"
   ]
  },
  {
   "cell_type": "markdown",
   "metadata": {
    "id": "xIC1slDIcicU"
   },
   "source": [
    "Attack vs Protocol: ICMP"
   ]
  },
  {
   "cell_type": "code",
   "execution_count": 24,
   "metadata": {
    "colab": {
     "base_uri": "https://localhost:8080/"
    },
    "executionInfo": {
     "elapsed": 10,
     "status": "ok",
     "timestamp": 1638764689937,
     "user": {
      "displayName": "Himanshu Kumar Suman",
      "photoUrl": "https://lh3.googleusercontent.com/a/default-user=s64",
      "userId": "09836040928709692922"
     },
     "user_tz": -330
    },
    "id": "ZNByel1VS_MQ",
    "outputId": "114dafae-83e1-48fa-810b-6176a92705e1"
   },
   "outputs": [
    {
     "name": "stdout",
     "output_type": "stream",
     "text": [
      "attack\n",
      "ipsweep      3117\n",
      "nmap          981\n",
      "pod           201\n",
      "portsweep       5\n",
      "satan          32\n",
      "smurf        2646\n",
      "Name: icmp, dtype: int32\n",
      "total attacks on ICMP:  6\n"
     ]
    }
   ],
   "source": [
    "icmp_df = cross_table[\"icmp\"].replace(0, pd.np.nan).dropna(axis=0, how=\"any\").fillna(0).astype(int)\n",
    "icmp_df = icmp_df.drop(\"normal\")\n",
    "print(icmp_df)\n",
    "print(\"total attacks on ICMP: \", len(icmp_df))"
   ]
  },
  {
   "cell_type": "code",
   "execution_count": 26,
   "metadata": {
    "colab": {
     "base_uri": "https://localhost:8080/",
     "height": 487
    },
    "executionInfo": {
     "elapsed": 9,
     "status": "ok",
     "timestamp": 1638764689937,
     "user": {
      "displayName": "Himanshu Kumar Suman",
      "photoUrl": "https://lh3.googleusercontent.com/a/default-user=s64",
      "userId": "09836040928709692922"
     },
     "user_tz": -330
    },
    "id": "_4pD-HXbWaE8",
    "outputId": "ddc35f2e-93d9-4750-f121-470fba6b658e"
   },
   "outputs": [
    {
     "data": {
      "image/png": "[encoded data removed]",
      "text/plain": [
       "<Figure size 640x480 with 1 Axes>"
      ]
     },
     "metadata": {},
     "output_type": "display_data"
    }
   ],
   "source": [
    "# plotting pie chart for ICMP\n",
    "slices = icmp_df.values\n",
    "labels = icmp_df.index.values\n",
    "# plt.style.use(\"fivethirtyeight\")\n",
    "plt.pie(slices, shadow=True, startangle=90, wedgeprops={\"edgecolor\": \"black\"})\n",
    "plt.title(\"ICMP\")\n",
    "plt.tight_layout()\n",
    "plt.legend(labels, loc='lower left', bbox_to_anchor=(-0.1, 1.), fontsize=8)\n",
    "plt.show()"
   ]
  },
  {
   "cell_type": "markdown",
   "metadata": {
    "id": "QScNFn5bcrLJ"
   },
   "source": [
    "Attack vs Protocol: TCP"
   ]
  },
  {
   "cell_type": "code",
   "execution_count": 27,
   "metadata": {
    "colab": {
     "base_uri": "https://localhost:8080/"
    },
    "executionInfo": {
     "elapsed": 9,
     "status": "ok",
     "timestamp": 1638764689938,
     "user": {
      "displayName": "Himanshu Kumar Suman",
      "photoUrl": "https://lh3.googleusercontent.com/a/default-user=s64",
      "userId": "09836040928709692922"
     },
     "user_tz": -330
    },
    "id": "AtCJS3NPXs3B",
    "outputId": "d065f8ab-47b8-4e7e-bc33-23bd39e91f33"
   },
   "outputs": [
    {
     "name": "stdout",
     "output_type": "stream",
     "text": [
      "attack\n",
      "back                 956\n",
      "buffer_overflow       30\n",
      "ftp_write              8\n",
      "guess_passwd          53\n",
      "imap                  11\n",
      "ipsweep              482\n",
      "land                  18\n",
      "loadmodule             9\n",
      "multihop               7\n",
      "neptune            41214\n",
      "nmap                 265\n",
      "perl                   3\n",
      "phf                    4\n",
      "portsweep           2926\n",
      "rootkit                7\n",
      "satan               2184\n",
      "spy                    2\n",
      "warezclient          890\n",
      "warezmaster           20\n",
      "Name: tcp, dtype: int32\n",
      "total attacks on TCP:  19\n"
     ]
    }
   ],
   "source": [
    "tcp_df = cross_table[\"tcp\"].replace(0, pd.np.nan).dropna(axis=0, how=\"any\").fillna(0).astype(int)\n",
    "tcp_df = tcp_df.drop(\"normal\")\n",
    "print(tcp_df)\n",
    "print(\"total attacks on TCP: \", len(tcp_df))"
   ]
  },
  {
   "cell_type": "code",
   "execution_count": 29,
   "metadata": {
    "colab": {
     "base_uri": "https://localhost:8080/",
     "height": 487
    },
    "executionInfo": {
     "elapsed": 1378,
     "status": "ok",
     "timestamp": 1638764691308,
     "user": {
      "displayName": "Himanshu Kumar Suman",
      "photoUrl": "https://lh3.googleusercontent.com/a/default-user=s64",
      "userId": "09836040928709692922"
     },
     "user_tz": -330
    },
    "id": "Axr04ge0DGNa",
    "outputId": "92f986c3-8f48-4d4c-add2-6970d8e41b74"
   },
   "outputs": [
    {
     "data": {
      "image/png": "[encoded data removed]",
      "text/plain": [
       "<Figure size 640x480 with 1 Axes>"
      ]
     },
     "metadata": {},
     "output_type": "display_data"
    }
   ],
   "source": [
    "# plotting pie chart for ICMP\n",
    "slices = tcp_df.values\n",
    "labels = tcp_df.index.values\n",
    "# plt.style.use(\"fivethirtyeight\")\n",
    "plt.pie(slices, shadow=True, startangle=90, wedgeprops={\"edgecolor\": \"black\"})\n",
    "plt.title(\"TCP\")\n",
    "plt.tight_layout()\n",
    "plt.legend(labels, loc='lower left', bbox_to_anchor=(-0.1, 1.), fontsize=8)\n",
    "plt.show()"
   ]
  },
  {
   "cell_type": "markdown",
   "metadata": {
    "id": "YdG3FySJcuAg"
   },
   "source": [
    "Attack vs Protocol: UDP"
   ]
  },
  {
   "cell_type": "code",
   "execution_count": 30,
   "metadata": {
    "colab": {
     "base_uri": "https://localhost:8080/"
    },
    "executionInfo": {
     "elapsed": 13,
     "status": "ok",
     "timestamp": 1638764691308,
     "user": {
      "displayName": "Himanshu Kumar Suman",
      "photoUrl": "https://lh3.googleusercontent.com/a/default-user=s64",
      "userId": "09836040928709692922"
     },
     "user_tz": -330
    },
    "id": "R6Uxm1fJDRQk",
    "outputId": "1bcfd0b7-e36e-45c9-80bd-b2f06caa4135"
   },
   "outputs": [
    {
     "name": "stdout",
     "output_type": "stream",
     "text": [
      "attack\n",
      "nmap         247\n",
      "rootkit        3\n",
      "satan       1417\n",
      "teardrop     892\n",
      "Name: udp, dtype: int32\n",
      "total attacks on UDP:  4\n"
     ]
    }
   ],
   "source": [
    "udp_df = cross_table[\"udp\"].replace(0, pd.np.nan).dropna(axis=0, how=\"any\").fillna(0).astype(int)\n",
    "udp_df = udp_df.drop(\"normal\")\n",
    "print(udp_df)\n",
    "print(\"total attacks on UDP: \", len(udp_df))"
   ]
  },
  {
   "cell_type": "code",
   "execution_count": 32,
   "metadata": {
    "colab": {
     "base_uri": "https://localhost:8080/",
     "height": 487
    },
    "executionInfo": {
     "elapsed": 12,
     "status": "ok",
     "timestamp": 1638764691309,
     "user": {
      "displayName": "Himanshu Kumar Suman",
      "photoUrl": "https://lh3.googleusercontent.com/a/default-user=s64",
      "userId": "09836040928709692922"
     },
     "user_tz": -330
    },
    "id": "8JXgDDFID0xe",
    "outputId": "e76c88d2-9e8e-4e58-f843-155e7c669b4e"
   },
   "outputs": [
    {
     "data": {
      "image/png": "[encoded data removed]",
      "text/plain": [
       "<Figure size 640x480 with 1 Axes>"
      ]
     },
     "metadata": {},
     "output_type": "display_data"
    }
   ],
   "source": [
    "# plotting pie chart for ICMP\n",
    "slices = udp_df.values\n",
    "labels = udp_df.index.values\n",
    "# plt.style.use(\"fivethirtyeight\")\n",
    "plt.pie(slices, shadow=True, startangle=90, wedgeprops={\"edgecolor\": \"black\"})\n",
    "plt.title(\"UDP\")\n",
    "plt.tight_layout()\n",
    "plt.legend(labels, loc='lower left', bbox_to_anchor=(-0.1, 1.), fontsize=8)\n",
    "plt.show()"
   ]
  },
  {
   "cell_type": "markdown",
   "metadata": {
    "id": "dAmc5BaeFWh2"
   },
   "source": [
    "# Attack vs Flag\n",
    "\n",
    "Analyzing \"flag\" attribute under normal and attack scenario"
   ]
  },
  {
   "cell_type": "code",
   "execution_count": 33,
   "metadata": {
    "colab": {
     "base_uri": "https://localhost:8080/"
    },
    "executionInfo": {
     "elapsed": 11,
     "status": "ok",
     "timestamp": 1638764691309,
     "user": {
      "displayName": "Himanshu Kumar Suman",
      "photoUrl": "https://lh3.googleusercontent.com/a/default-user=s64",
      "userId": "09836040928709692922"
     },
     "user_tz": -330
    },
    "id": "6Ou1Kiu_EvQK",
    "outputId": "d0b5a75e-1a00-4a16-8ec9-f9576c5bf838"
   },
   "outputs": [
    {
     "data": {
      "text/plain": [
       "array([0, 1], dtype=int64)"
      ]
     },
     "execution_count": 33,
     "metadata": {},
     "output_type": "execute_result"
    }
   ],
   "source": [
    "train_df[\"attack_flag\"].unique()"
   ]
  },
  {
   "cell_type": "code",
   "execution_count": 34,
   "metadata": {
    "colab": {
     "base_uri": "https://localhost:8080/"
    },
    "executionInfo": {
     "elapsed": 11,
     "status": "ok",
     "timestamp": 1638764691310,
     "user": {
      "displayName": "Himanshu Kumar Suman",
      "photoUrl": "https://lh3.googleusercontent.com/a/default-user=s64",
      "userId": "09836040928709692922"
     },
     "user_tz": -330
    },
    "id": "A2Z05lr2Gd9j",
    "outputId": "fad91ee0-5b0f-4112-fb21-cc56e476f172"
   },
   "outputs": [
    {
     "data": {
      "text/plain": [
       "array(['SF', 'S0', 'REJ', 'RSTR', 'SH', 'RSTO', 'S1', 'RSTOS0', 'S3',\n",
       "       'S2', 'OTH'], dtype=object)"
      ]
     },
     "execution_count": 34,
     "metadata": {},
     "output_type": "execute_result"
    }
   ],
   "source": [
    "train_df[\"flag\"].unique()"
   ]
  },
  {
   "cell_type": "code",
   "execution_count": 35,
   "metadata": {
    "colab": {
     "base_uri": "https://localhost:8080/"
    },
    "executionInfo": {
     "elapsed": 10,
     "status": "ok",
     "timestamp": 1638764691310,
     "user": {
      "displayName": "Himanshu Kumar Suman",
      "photoUrl": "https://lh3.googleusercontent.com/a/default-user=s64",
      "userId": "09836040928709692922"
     },
     "user_tz": -330
    },
    "id": "Bqx4Vd1nEvby",
    "outputId": "8240e5b7-269a-4f74-f027-05aceaa52db3"
   },
   "outputs": [
    {
     "data": {
      "text/plain": [
       "SF      63392\n",
       "REJ      2693\n",
       "S1        361\n",
       "S0        354\n",
       "RSTO      219\n",
       "RSTR      146\n",
       "S2        119\n",
       "S3         45\n",
       "OTH        11\n",
       "SH          2\n",
       "Name: flag, dtype: int64"
      ]
     },
     "execution_count": 35,
     "metadata": {},
     "output_type": "execute_result"
    }
   ],
   "source": [
    "normal_flags = train_df.loc[train_df[\"attack_flag\"] == 0].flag.value_counts()\n",
    "normal_flags"
   ]
  },
  {
   "cell_type": "code",
   "execution_count": 36,
   "metadata": {
    "colab": {
     "base_uri": "https://localhost:8080/",
     "height": 472
    },
    "executionInfo": {
     "elapsed": 8,
     "status": "ok",
     "timestamp": 1638764691310,
     "user": {
      "displayName": "Himanshu Kumar Suman",
      "photoUrl": "https://lh3.googleusercontent.com/a/default-user=s64",
      "userId": "09836040928709692922"
     },
     "user_tz": -330
    },
    "id": "96roA0D5BjB9",
    "outputId": "55fb4ac9-8fb5-4131-cd44-255088f858a4"
   },
   "outputs": [
    {
     "data": {
      "image/png": "[encoded data removed]",
      "text/plain": [
       "<Figure size 640x480 with 1 Axes>"
      ]
     },
     "metadata": {},
     "output_type": "display_data"
    }
   ],
   "source": [
    "# plotting top 5 flags using bar graphs\n",
    "slices = normal_flags.values[:5]\n",
    "labels = normal_flags.index.values[:5]\n",
    "plt.barh(labels, slices)\n",
    "plt.xlabel(\"count\")\n",
    "plt.title(\"Flags when attack=0\")\n",
    "plt.show()"
   ]
  },
  {
   "cell_type": "code",
   "execution_count": 37,
   "metadata": {
    "colab": {
     "base_uri": "https://localhost:8080/"
    },
    "executionInfo": {
     "elapsed": 8,
     "status": "ok",
     "timestamp": 1638764691310,
     "user": {
      "displayName": "Himanshu Kumar Suman",
      "photoUrl": "https://lh3.googleusercontent.com/a/default-user=s64",
      "userId": "09836040928709692922"
     },
     "user_tz": -330
    },
    "id": "zXhVyF6UFrpI",
    "outputId": "aa514da0-d645-4376-af6b-11fa3cd994e3"
   },
   "outputs": [
    {
     "data": {
      "text/plain": [
       "S0        34497\n",
       "SF        11552\n",
       "REJ        8540\n",
       "RSTR       2275\n",
       "RSTO       1343\n",
       "SH          269\n",
       "RSTOS0      103\n",
       "OTH          35\n",
       "S2            8\n",
       "S3            4\n",
       "S1            4\n",
       "Name: flag, dtype: int64"
      ]
     },
     "execution_count": 37,
     "metadata": {},
     "output_type": "execute_result"
    }
   ],
   "source": [
    "attack_flags = train_df.loc[train_df[\"attack_flag\"] == 1].flag.value_counts()\n",
    "attack_flags"
   ]
  },
  {
   "cell_type": "code",
   "execution_count": 38,
   "metadata": {
    "colab": {
     "base_uri": "https://localhost:8080/",
     "height": 472
    },
    "executionInfo": {
     "elapsed": 1116,
     "status": "ok",
     "timestamp": 1638764692419,
     "user": {
      "displayName": "Himanshu Kumar Suman",
      "photoUrl": "https://lh3.googleusercontent.com/a/default-user=s64",
      "userId": "09836040928709692922"
     },
     "user_tz": -330
    },
    "id": "YBGPC23_IRM1",
    "outputId": "d7e0bf81-8dec-480a-b8df-3ee50deeba09"
   },
   "outputs": [
    {
     "data": {
      "image/png": "[encoded data removed]",
      "text/plain": [
       "<Figure size 640x480 with 1 Axes>"
      ]
     },
     "metadata": {},
     "output_type": "display_data"
    }
   ],
   "source": [
    "# plotting top 5 flags using bar graphs\n",
    "slices = attack_flags.values[:5]\n",
    "labels = attack_flags.index.values[:5]\n",
    "plt.barh(labels, slices)\n",
    "plt.xlabel(\"count\")\n",
    "plt.title(\"Flags when attack=1\")\n",
    "plt.show()"
   ]
  },
  {
   "cell_type": "markdown",
   "metadata": {
    "id": "WWXJjmd1IixP"
   },
   "source": [
    "# Attack vs Service\n",
    "\n",
    "Analyzing \"service\" attribute under normal and attack scenario"
   ]
  },
  {
   "cell_type": "code",
   "execution_count": 39,
   "metadata": {
    "colab": {
     "base_uri": "https://localhost:8080/"
    },
    "executionInfo": {
     "elapsed": 12,
     "status": "ok",
     "timestamp": 1638764692420,
     "user": {
      "displayName": "Himanshu Kumar Suman",
      "photoUrl": "https://lh3.googleusercontent.com/a/default-user=s64",
      "userId": "09836040928709692922"
     },
     "user_tz": -330
    },
    "id": "fsPJkc_yIVs3",
    "outputId": "adf5bbfd-03c0-4bf6-a00e-fe88561c024c"
   },
   "outputs": [
    {
     "data": {
      "text/plain": [
       "array(['other', 'private', 'http', 'remote_job', 'ftp_data', 'name',\n",
       "       'netbios_ns', 'eco_i', 'mtp', 'telnet', 'finger', 'domain_u',\n",
       "       'supdup', 'uucp_path', 'Z39_50', 'smtp', 'csnet_ns', 'uucp',\n",
       "       'netbios_dgm', 'urp_i', 'auth', 'domain', 'ftp', 'bgp', 'ldap',\n",
       "       'ecr_i', 'gopher', 'vmnet', 'systat', 'http_443', 'efs', 'whois',\n",
       "       'imap4', 'iso_tsap', 'echo', 'klogin', 'link', 'sunrpc', 'login',\n",
       "       'kshell', 'sql_net', 'time', 'hostnames', 'exec', 'ntp_u',\n",
       "       'discard', 'nntp', 'courier', 'ctf', 'ssh', 'daytime', 'shell',\n",
       "       'netstat', 'pop_3', 'nnsp', 'IRC', 'pop_2', 'printer', 'tim_i',\n",
       "       'pm_dump', 'red_i', 'netbios_ssn', 'rje', 'X11', 'urh_i',\n",
       "       'http_8001', 'aol', 'http_2784', 'tftp_u', 'harvest'], dtype=object)"
      ]
     },
     "execution_count": 39,
     "metadata": {},
     "output_type": "execute_result"
    }
   ],
   "source": [
    "train_df[\"service\"].unique()"
   ]
  },
  {
   "cell_type": "code",
   "execution_count": 40,
   "metadata": {
    "colab": {
     "base_uri": "https://localhost:8080/"
    },
    "executionInfo": {
     "elapsed": 10,
     "status": "ok",
     "timestamp": 1638764692420,
     "user": {
      "displayName": "Himanshu Kumar Suman",
      "photoUrl": "https://lh3.googleusercontent.com/a/default-user=s64",
      "userId": "09836040928709692922"
     },
     "user_tz": -330
    },
    "id": "xe9JemFzJvX7",
    "outputId": "4ca31d68-7f95-479a-d989-2f4a4831737e"
   },
   "outputs": [
    {
     "data": {
      "text/plain": [
       "http        38049\n",
       "domain_u     9034\n",
       "smtp         7029\n",
       "ftp_data     4983\n",
       "other        2604\n",
       "private       982\n",
       "ftp           918\n",
       "telnet        917\n",
       "urp_i         599\n",
       "finger        545\n",
       "eco_i         497\n",
       "auth          236\n",
       "ecr_i         190\n",
       "IRC           186\n",
       "pop_3         186\n",
       "ntp_u         168\n",
       "time           76\n",
       "X11            67\n",
       "domain         38\n",
       "urh_i          10\n",
       "red_i           8\n",
       "tim_i           5\n",
       "ssh             5\n",
       "shell           4\n",
       "imap4           3\n",
       "tftp_u          3\n",
       "Name: service, dtype: int64"
      ]
     },
     "execution_count": 40,
     "metadata": {},
     "output_type": "execute_result"
    }
   ],
   "source": [
    "normal_services = train_df.loc[train_df.attack_flag == 0].service.value_counts()\n",
    "normal_services"
   ]
  },
  {
   "cell_type": "code",
   "execution_count": 41,
   "metadata": {
    "colab": {
     "base_uri": "https://localhost:8080/",
     "height": 472
    },
    "executionInfo": {
     "elapsed": 9,
     "status": "ok",
     "timestamp": 1638764692420,
     "user": {
      "displayName": "Himanshu Kumar Suman",
      "photoUrl": "https://lh3.googleusercontent.com/a/default-user=s64",
      "userId": "09836040928709692922"
     },
     "user_tz": -330
    },
    "id": "UKjdOBmAJ9q_",
    "outputId": "999de404-472b-4a1d-d44f-a14e93970924"
   },
   "outputs": [
    {
     "data": {
      "image/png": "[encoded data removed]",
      "text/plain": [
       "<Figure size 640x480 with 1 Axes>"
      ]
     },
     "metadata": {},
     "output_type": "display_data"
    }
   ],
   "source": [
    "# plotting top 10 services using bar graphs\n",
    "slices = normal_services.values[:10]\n",
    "labels = normal_services.index.values[:10]\n",
    "plt.barh(labels, slices)\n",
    "plt.xlabel(\"count\")\n",
    "plt.title(\"Services when attack=0\")\n",
    "plt.show()"
   ]
  },
  {
   "cell_type": "code",
   "execution_count": 42,
   "metadata": {
    "colab": {
     "base_uri": "https://localhost:8080/"
    },
    "executionInfo": {
     "elapsed": 9,
     "status": "ok",
     "timestamp": 1638764692421,
     "user": {
      "displayName": "Himanshu Kumar Suman",
      "photoUrl": "https://lh3.googleusercontent.com/a/default-user=s64",
      "userId": "09836040928709692922"
     },
     "user_tz": -330
    },
    "id": "kCzsH1RYKTJa",
    "outputId": "fd098840-5c62-46e7-c13d-47eb696fd6de"
   },
   "outputs": [
    {
     "data": {
      "text/plain": [
       "private      20871\n",
       "eco_i         4089\n",
       "ecr_i         2887\n",
       "http          2289\n",
       "ftp_data      1876\n",
       "other         1755\n",
       "telnet        1436\n",
       "finger        1222\n",
       "Z39_50         862\n",
       "ftp            836\n",
       "uucp           780\n",
       "courier        734\n",
       "auth           719\n",
       "bgp            710\n",
       "whois          693\n",
       "uucp_path      689\n",
       "iso_tsap       687\n",
       "imap4          644\n",
       "nnsp           630\n",
       "vmnet          617\n",
       "Name: service, dtype: int64"
      ]
     },
     "execution_count": 42,
     "metadata": {},
     "output_type": "execute_result"
    }
   ],
   "source": [
    "attack_services = train_df.loc[train_df.attack_flag == 1].service.value_counts()\n",
    "attack_services[:20]"
   ]
  },
  {
   "cell_type": "code",
   "execution_count": 43,
   "metadata": {
    "colab": {
     "base_uri": "https://localhost:8080/",
     "height": 472
    },
    "executionInfo": {
     "elapsed": 8,
     "status": "ok",
     "timestamp": 1638764692421,
     "user": {
      "displayName": "Himanshu Kumar Suman",
      "photoUrl": "https://lh3.googleusercontent.com/a/default-user=s64",
      "userId": "09836040928709692922"
     },
     "user_tz": -330
    },
    "id": "usaPXn1tKNVB",
    "outputId": "e2d98ac5-7713-4cd0-d1df-d4f2db82e645"
   },
   "outputs": [
    {
     "data": {
      "image/png": "[encoded data removed]",
      "text/plain": [
       "<Figure size 640x480 with 1 Axes>"
      ]
     },
     "metadata": {},
     "output_type": "display_data"
    }
   ],
   "source": [
    "# plotting top 10 services using bar graphs\n",
    "slices = attack_services.values[:10]\n",
    "labels = attack_services.index.values[:10]\n",
    "plt.barh(labels, slices)\n",
    "plt.xlabel(\"count\")\n",
    "plt.title(\"Services when attack=1\")\n",
    "plt.show()"
   ]
  },
  {
   "cell_type": "markdown",
   "metadata": {
    "id": "RAXyPYZ47BQl"
   },
   "source": [
    "# Feature Selection"
   ]
  },
  {
   "cell_type": "code",
   "execution_count": 45,
   "metadata": {
    "executionInfo": {
     "elapsed": 7,
     "status": "ok",
     "timestamp": 1638764692421,
     "user": {
      "displayName": "Himanshu Kumar Suman",
      "photoUrl": "https://lh3.googleusercontent.com/a/default-user=s64",
      "userId": "09836040928709692922"
     },
     "user_tz": -330
    },
    "id": "eeRmWzgx75HK"
   },
   "outputs": [],
   "source": [
    "from sklearn.feature_selection import mutual_info_classif"
   ]
  },
  {
   "cell_type": "code",
   "execution_count": 46,
   "metadata": {
    "colab": {
     "base_uri": "https://localhost:8080/",
     "height": 383
    },
    "executionInfo": {
     "elapsed": 7,
     "status": "ok",
     "timestamp": 1638764692421,
     "user": {
      "displayName": "Himanshu Kumar Suman",
      "photoUrl": "https://lh3.googleusercontent.com/a/default-user=s64",
      "userId": "09836040928709692922"
     },
     "user_tz": -330
    },
    "id": "8JPCGXDc7YVg",
    "outputId": "b6bba3e6-9cba-4dc2-dbe3-f9e0c36e6be2"
   },
   "outputs": [
    {
     "data": {
      "text/html": [
       "<div>\n",
       "<style scoped>\n",
       "    .dataframe tbody tr th:only-of-type {\n",
       "        vertical-align: middle;\n",
       "    }\n",
       "\n",
       "    .dataframe tbody tr th {\n",
       "        vertical-align: top;\n",
       "    }\n",
       "\n",
       "    .dataframe thead th {\n",
       "        text-align: right;\n",
       "    }\n",
       "</style>\n",
       "<table border=\"1\" class=\"dataframe\">\n",
       "  <thead>\n",
       "    <tr style=\"text-align: right;\">\n",
       "      <th></th>\n",
       "      <th>duration</th>\n",
       "      <th>protocol_type</th>\n",
       "      <th>service</th>\n",
       "      <th>flag</th>\n",
       "      <th>src_bytes</th>\n",
       "      <th>dst_bytes</th>\n",
       "      <th>land</th>\n",
       "      <th>wrong_fragment</th>\n",
       "      <th>urgent</th>\n",
       "      <th>hot</th>\n",
       "      <th>...</th>\n",
       "      <th>dst_host_same_src_port_rate</th>\n",
       "      <th>dst_host_srv_diff_host_rate</th>\n",
       "      <th>dst_host_serror_rate</th>\n",
       "      <th>dst_host_srv_serror_rate</th>\n",
       "      <th>dst_host_rerror_rate</th>\n",
       "      <th>dst_host_srv_rerror_rate</th>\n",
       "      <th>attack</th>\n",
       "      <th>level</th>\n",
       "      <th>attack_flag</th>\n",
       "      <th>attack_map</th>\n",
       "    </tr>\n",
       "  </thead>\n",
       "  <tbody>\n",
       "    <tr>\n",
       "      <th>31991</th>\n",
       "      <td>0</td>\n",
       "      <td>tcp</td>\n",
       "      <td>http</td>\n",
       "      <td>SF</td>\n",
       "      <td>205</td>\n",
       "      <td>16702</td>\n",
       "      <td>0</td>\n",
       "      <td>0</td>\n",
       "      <td>0</td>\n",
       "      <td>0</td>\n",
       "      <td>...</td>\n",
       "      <td>0.10</td>\n",
       "      <td>0.03</td>\n",
       "      <td>0.00</td>\n",
       "      <td>0.0</td>\n",
       "      <td>0.00</td>\n",
       "      <td>0.0</td>\n",
       "      <td>normal</td>\n",
       "      <td>21</td>\n",
       "      <td>0</td>\n",
       "      <td>0</td>\n",
       "    </tr>\n",
       "    <tr>\n",
       "      <th>20298</th>\n",
       "      <td>0</td>\n",
       "      <td>icmp</td>\n",
       "      <td>eco_i</td>\n",
       "      <td>SF</td>\n",
       "      <td>30</td>\n",
       "      <td>0</td>\n",
       "      <td>0</td>\n",
       "      <td>0</td>\n",
       "      <td>0</td>\n",
       "      <td>0</td>\n",
       "      <td>...</td>\n",
       "      <td>0.07</td>\n",
       "      <td>0.00</td>\n",
       "      <td>0.00</td>\n",
       "      <td>0.0</td>\n",
       "      <td>0.00</td>\n",
       "      <td>0.0</td>\n",
       "      <td>normal</td>\n",
       "      <td>19</td>\n",
       "      <td>0</td>\n",
       "      <td>0</td>\n",
       "    </tr>\n",
       "    <tr>\n",
       "      <th>116779</th>\n",
       "      <td>0</td>\n",
       "      <td>tcp</td>\n",
       "      <td>private</td>\n",
       "      <td>REJ</td>\n",
       "      <td>0</td>\n",
       "      <td>0</td>\n",
       "      <td>0</td>\n",
       "      <td>0</td>\n",
       "      <td>0</td>\n",
       "      <td>0</td>\n",
       "      <td>...</td>\n",
       "      <td>0.00</td>\n",
       "      <td>0.00</td>\n",
       "      <td>0.00</td>\n",
       "      <td>0.0</td>\n",
       "      <td>1.00</td>\n",
       "      <td>1.0</td>\n",
       "      <td>neptune</td>\n",
       "      <td>21</td>\n",
       "      <td>1</td>\n",
       "      <td>1</td>\n",
       "    </tr>\n",
       "    <tr>\n",
       "      <th>76587</th>\n",
       "      <td>0</td>\n",
       "      <td>tcp</td>\n",
       "      <td>discard</td>\n",
       "      <td>RSTO</td>\n",
       "      <td>0</td>\n",
       "      <td>0</td>\n",
       "      <td>0</td>\n",
       "      <td>0</td>\n",
       "      <td>0</td>\n",
       "      <td>0</td>\n",
       "      <td>...</td>\n",
       "      <td>0.00</td>\n",
       "      <td>0.00</td>\n",
       "      <td>0.00</td>\n",
       "      <td>0.0</td>\n",
       "      <td>1.00</td>\n",
       "      <td>1.0</td>\n",
       "      <td>neptune</td>\n",
       "      <td>20</td>\n",
       "      <td>1</td>\n",
       "      <td>1</td>\n",
       "    </tr>\n",
       "    <tr>\n",
       "      <th>43277</th>\n",
       "      <td>0</td>\n",
       "      <td>tcp</td>\n",
       "      <td>private</td>\n",
       "      <td>REJ</td>\n",
       "      <td>0</td>\n",
       "      <td>0</td>\n",
       "      <td>0</td>\n",
       "      <td>0</td>\n",
       "      <td>0</td>\n",
       "      <td>0</td>\n",
       "      <td>...</td>\n",
       "      <td>0.61</td>\n",
       "      <td>0.00</td>\n",
       "      <td>0.00</td>\n",
       "      <td>0.0</td>\n",
       "      <td>0.61</td>\n",
       "      <td>1.0</td>\n",
       "      <td>portsweep</td>\n",
       "      <td>18</td>\n",
       "      <td>1</td>\n",
       "      <td>2</td>\n",
       "    </tr>\n",
       "    <tr>\n",
       "      <th>9122</th>\n",
       "      <td>0</td>\n",
       "      <td>tcp</td>\n",
       "      <td>http</td>\n",
       "      <td>SF</td>\n",
       "      <td>279</td>\n",
       "      <td>296</td>\n",
       "      <td>0</td>\n",
       "      <td>0</td>\n",
       "      <td>0</td>\n",
       "      <td>0</td>\n",
       "      <td>...</td>\n",
       "      <td>0.03</td>\n",
       "      <td>0.04</td>\n",
       "      <td>0.00</td>\n",
       "      <td>0.0</td>\n",
       "      <td>0.00</td>\n",
       "      <td>0.0</td>\n",
       "      <td>normal</td>\n",
       "      <td>21</td>\n",
       "      <td>0</td>\n",
       "      <td>0</td>\n",
       "    </tr>\n",
       "    <tr>\n",
       "      <th>79113</th>\n",
       "      <td>2</td>\n",
       "      <td>tcp</td>\n",
       "      <td>ftp_data</td>\n",
       "      <td>SF</td>\n",
       "      <td>2194619</td>\n",
       "      <td>0</td>\n",
       "      <td>0</td>\n",
       "      <td>0</td>\n",
       "      <td>0</td>\n",
       "      <td>0</td>\n",
       "      <td>...</td>\n",
       "      <td>0.28</td>\n",
       "      <td>0.00</td>\n",
       "      <td>0.01</td>\n",
       "      <td>0.0</td>\n",
       "      <td>0.00</td>\n",
       "      <td>0.0</td>\n",
       "      <td>normal</td>\n",
       "      <td>18</td>\n",
       "      <td>0</td>\n",
       "      <td>0</td>\n",
       "    </tr>\n",
       "    <tr>\n",
       "      <th>34106</th>\n",
       "      <td>0</td>\n",
       "      <td>tcp</td>\n",
       "      <td>csnet_ns</td>\n",
       "      <td>S0</td>\n",
       "      <td>0</td>\n",
       "      <td>0</td>\n",
       "      <td>0</td>\n",
       "      <td>0</td>\n",
       "      <td>0</td>\n",
       "      <td>0</td>\n",
       "      <td>...</td>\n",
       "      <td>0.00</td>\n",
       "      <td>0.00</td>\n",
       "      <td>1.00</td>\n",
       "      <td>1.0</td>\n",
       "      <td>0.00</td>\n",
       "      <td>0.0</td>\n",
       "      <td>neptune</td>\n",
       "      <td>21</td>\n",
       "      <td>1</td>\n",
       "      <td>1</td>\n",
       "    </tr>\n",
       "    <tr>\n",
       "      <th>14673</th>\n",
       "      <td>0</td>\n",
       "      <td>tcp</td>\n",
       "      <td>http</td>\n",
       "      <td>SF</td>\n",
       "      <td>225</td>\n",
       "      <td>668</td>\n",
       "      <td>0</td>\n",
       "      <td>0</td>\n",
       "      <td>0</td>\n",
       "      <td>0</td>\n",
       "      <td>...</td>\n",
       "      <td>0.00</td>\n",
       "      <td>0.00</td>\n",
       "      <td>0.00</td>\n",
       "      <td>0.0</td>\n",
       "      <td>0.00</td>\n",
       "      <td>0.0</td>\n",
       "      <td>normal</td>\n",
       "      <td>21</td>\n",
       "      <td>0</td>\n",
       "      <td>0</td>\n",
       "    </tr>\n",
       "    <tr>\n",
       "      <th>98306</th>\n",
       "      <td>0</td>\n",
       "      <td>tcp</td>\n",
       "      <td>http</td>\n",
       "      <td>S0</td>\n",
       "      <td>0</td>\n",
       "      <td>0</td>\n",
       "      <td>0</td>\n",
       "      <td>0</td>\n",
       "      <td>0</td>\n",
       "      <td>0</td>\n",
       "      <td>...</td>\n",
       "      <td>0.00</td>\n",
       "      <td>0.00</td>\n",
       "      <td>1.00</td>\n",
       "      <td>1.0</td>\n",
       "      <td>0.00</td>\n",
       "      <td>0.0</td>\n",
       "      <td>neptune</td>\n",
       "      <td>20</td>\n",
       "      <td>1</td>\n",
       "      <td>1</td>\n",
       "    </tr>\n",
       "  </tbody>\n",
       "</table>\n",
       "<p>10 rows × 45 columns</p>\n",
       "</div>"
      ],
      "text/plain": [
       "        duration protocol_type   service  flag  src_bytes  dst_bytes  land  \\\n",
       "31991          0           tcp      http    SF        205      16702     0   \n",
       "20298          0          icmp     eco_i    SF         30          0     0   \n",
       "116779         0           tcp   private   REJ          0          0     0   \n",
       "76587          0           tcp   discard  RSTO          0          0     0   \n",
       "43277          0           tcp   private   REJ          0          0     0   \n",
       "9122           0           tcp      http    SF        279        296     0   \n",
       "79113          2           tcp  ftp_data    SF    2194619          0     0   \n",
       "34106          0           tcp  csnet_ns    S0          0          0     0   \n",
       "14673          0           tcp      http    SF        225        668     0   \n",
       "98306          0           tcp      http    S0          0          0     0   \n",
       "\n",
       "        wrong_fragment  urgent  hot  ...  dst_host_same_src_port_rate  \\\n",
       "31991                0       0    0  ...                         0.10   \n",
       "20298                0       0    0  ...                         0.07   \n",
       "116779               0       0    0  ...                         0.00   \n",
       "76587                0       0    0  ...                         0.00   \n",
       "43277                0       0    0  ...                         0.61   \n",
       "9122                 0       0    0  ...                         0.03   \n",
       "79113                0       0    0  ...                         0.28   \n",
       "34106                0       0    0  ...                         0.00   \n",
       "14673                0       0    0  ...                         0.00   \n",
       "98306                0       0    0  ...                         0.00   \n",
       "\n",
       "        dst_host_srv_diff_host_rate  dst_host_serror_rate  \\\n",
       "31991                          0.03                  0.00   \n",
       "20298                          0.00                  0.00   \n",
       "116779                         0.00                  0.00   \n",
       "76587                          0.00                  0.00   \n",
       "43277                          0.00                  0.00   \n",
       "9122                           0.04                  0.00   \n",
       "79113                          0.00                  0.01   \n",
       "34106                          0.00                  1.00   \n",
       "14673                          0.00                  0.00   \n",
       "98306                          0.00                  1.00   \n",
       "\n",
       "        dst_host_srv_serror_rate  dst_host_rerror_rate  \\\n",
       "31991                        0.0                  0.00   \n",
       "20298                        0.0                  0.00   \n",
       "116779                       0.0                  1.00   \n",
       "76587                        0.0                  1.00   \n",
       "43277                        0.0                  0.61   \n",
       "9122                         0.0                  0.00   \n",
       "79113                        0.0                  0.00   \n",
       "34106                        1.0                  0.00   \n",
       "14673                        0.0                  0.00   \n",
       "98306                        1.0                  0.00   \n",
       "\n",
       "        dst_host_srv_rerror_rate     attack  level  attack_flag  attack_map  \n",
       "31991                        0.0     normal     21            0           0  \n",
       "20298                        0.0     normal     19            0           0  \n",
       "116779                       1.0    neptune     21            1           1  \n",
       "76587                        1.0    neptune     20            1           1  \n",
       "43277                        1.0  portsweep     18            1           2  \n",
       "9122                         0.0     normal     21            0           0  \n",
       "79113                        0.0     normal     18            0           0  \n",
       "34106                        0.0    neptune     21            1           1  \n",
       "14673                        0.0     normal     21            0           0  \n",
       "98306                        0.0    neptune     20            1           1  \n",
       "\n",
       "[10 rows x 45 columns]"
      ]
     },
     "execution_count": 46,
     "metadata": {},
     "output_type": "execute_result"
    }
   ],
   "source": [
    "train_df.sample(10)"
   ]
  },
  {
   "cell_type": "code",
   "execution_count": 47,
   "metadata": {
    "executionInfo": {
     "elapsed": 7,
     "status": "ok",
     "timestamp": 1638764692421,
     "user": {
      "displayName": "Himanshu Kumar Suman",
      "photoUrl": "https://lh3.googleusercontent.com/a/default-user=s64",
      "userId": "09836040928709692922"
     },
     "user_tz": -330
    },
    "id": "HnM6Id687AjI"
   },
   "outputs": [],
   "source": [
    "# Y = train_df[\"attack_map\"]\n",
    "# X = train_df\n",
    "# imp = mutual_info_classif(X, Y)\n",
    "# feat_imp = pd.Series(imp, train_df.columns)\n",
    "# feat_imp.plot(kind=\"barh\")\n",
    "# ple.show()"
   ]
  },
  {
   "cell_type": "markdown",
   "metadata": {
    "id": "No419ikLVl_D"
   },
   "source": [
    "# Using Random Forest"
   ]
  },
  {
   "cell_type": "code",
   "execution_count": 48,
   "metadata": {
    "executionInfo": {
     "elapsed": 917,
     "status": "ok",
     "timestamp": 1638764693332,
     "user": {
      "displayName": "Himanshu Kumar Suman",
      "photoUrl": "https://lh3.googleusercontent.com/a/default-user=s64",
      "userId": "09836040928709692922"
     },
     "user_tz": -330
    },
    "id": "F4UQa5oea933"
   },
   "outputs": [],
   "source": [
    "from sklearn.model_selection import train_test_split\n",
    "from sklearn.ensemble import RandomForestClassifier\n",
    "from sklearn.metrics import accuracy_score\n",
    "import time"
   ]
  },
  {
   "cell_type": "code",
   "execution_count": 49,
   "metadata": {
    "colab": {
     "base_uri": "https://localhost:8080/"
    },
    "executionInfo": {
     "elapsed": 12,
     "status": "ok",
     "timestamp": 1638764693332,
     "user": {
      "displayName": "Himanshu Kumar Suman",
      "photoUrl": "https://lh3.googleusercontent.com/a/default-user=s64",
      "userId": "09836040928709692922"
     },
     "user_tz": -330
    },
    "id": "se9jvtNvbVU_",
    "outputId": "e6fa73ef-70ac-49f0-800e-1ebb5997ef69"
   },
   "outputs": [
    {
     "name": "stdout",
     "output_type": "stream",
     "text": [
      "training data =  (125972, 45)\n",
      "testing data =  (22543, 45)\n"
     ]
    }
   ],
   "source": [
    "print(\"training data = \", train_df.shape)\n",
    "print(\"testing data = \", test_df.shape)"
   ]
  },
  {
   "cell_type": "code",
   "execution_count": 50,
   "metadata": {
    "colab": {
     "base_uri": "https://localhost:8080/",
     "height": 255
    },
    "executionInfo": {
     "elapsed": 12,
     "status": "ok",
     "timestamp": 1638764693333,
     "user": {
      "displayName": "Himanshu Kumar Suman",
      "photoUrl": "https://lh3.googleusercontent.com/a/default-user=s64",
      "userId": "09836040928709692922"
     },
     "user_tz": -330
    },
    "id": "_TH1c9PjuHlZ",
    "outputId": "e2c87fdc-145a-4f49-e1d9-5eb7b2493fe5"
   },
   "outputs": [
    {
     "data": {
      "text/html": [
       "<div>\n",
       "<style scoped>\n",
       "    .dataframe tbody tr th:only-of-type {\n",
       "        vertical-align: middle;\n",
       "    }\n",
       "\n",
       "    .dataframe tbody tr th {\n",
       "        vertical-align: top;\n",
       "    }\n",
       "\n",
       "    .dataframe thead th {\n",
       "        text-align: right;\n",
       "    }\n",
       "</style>\n",
       "<table border=\"1\" class=\"dataframe\">\n",
       "  <thead>\n",
       "    <tr style=\"text-align: right;\">\n",
       "      <th></th>\n",
       "      <th>protocol_type_icmp</th>\n",
       "      <th>protocol_type_tcp</th>\n",
       "      <th>protocol_type_udp</th>\n",
       "      <th>service_IRC</th>\n",
       "      <th>service_X11</th>\n",
       "      <th>service_Z39_50</th>\n",
       "      <th>service_aol</th>\n",
       "      <th>service_auth</th>\n",
       "      <th>service_bgp</th>\n",
       "      <th>service_courier</th>\n",
       "      <th>...</th>\n",
       "      <th>flag_REJ</th>\n",
       "      <th>flag_RSTO</th>\n",
       "      <th>flag_RSTOS0</th>\n",
       "      <th>flag_RSTR</th>\n",
       "      <th>flag_S0</th>\n",
       "      <th>flag_S1</th>\n",
       "      <th>flag_S2</th>\n",
       "      <th>flag_S3</th>\n",
       "      <th>flag_SF</th>\n",
       "      <th>flag_SH</th>\n",
       "    </tr>\n",
       "  </thead>\n",
       "  <tbody>\n",
       "    <tr>\n",
       "      <th>51258</th>\n",
       "      <td>0</td>\n",
       "      <td>1</td>\n",
       "      <td>0</td>\n",
       "      <td>0</td>\n",
       "      <td>0</td>\n",
       "      <td>0</td>\n",
       "      <td>0</td>\n",
       "      <td>1</td>\n",
       "      <td>0</td>\n",
       "      <td>0</td>\n",
       "      <td>...</td>\n",
       "      <td>0</td>\n",
       "      <td>0</td>\n",
       "      <td>0</td>\n",
       "      <td>0</td>\n",
       "      <td>1</td>\n",
       "      <td>0</td>\n",
       "      <td>0</td>\n",
       "      <td>0</td>\n",
       "      <td>0</td>\n",
       "      <td>0</td>\n",
       "    </tr>\n",
       "    <tr>\n",
       "      <th>36617</th>\n",
       "      <td>0</td>\n",
       "      <td>1</td>\n",
       "      <td>0</td>\n",
       "      <td>0</td>\n",
       "      <td>0</td>\n",
       "      <td>0</td>\n",
       "      <td>0</td>\n",
       "      <td>0</td>\n",
       "      <td>0</td>\n",
       "      <td>0</td>\n",
       "      <td>...</td>\n",
       "      <td>0</td>\n",
       "      <td>0</td>\n",
       "      <td>0</td>\n",
       "      <td>0</td>\n",
       "      <td>0</td>\n",
       "      <td>0</td>\n",
       "      <td>0</td>\n",
       "      <td>0</td>\n",
       "      <td>1</td>\n",
       "      <td>0</td>\n",
       "    </tr>\n",
       "    <tr>\n",
       "      <th>12474</th>\n",
       "      <td>0</td>\n",
       "      <td>1</td>\n",
       "      <td>0</td>\n",
       "      <td>0</td>\n",
       "      <td>0</td>\n",
       "      <td>0</td>\n",
       "      <td>0</td>\n",
       "      <td>0</td>\n",
       "      <td>0</td>\n",
       "      <td>0</td>\n",
       "      <td>...</td>\n",
       "      <td>0</td>\n",
       "      <td>0</td>\n",
       "      <td>0</td>\n",
       "      <td>0</td>\n",
       "      <td>0</td>\n",
       "      <td>0</td>\n",
       "      <td>0</td>\n",
       "      <td>0</td>\n",
       "      <td>1</td>\n",
       "      <td>0</td>\n",
       "    </tr>\n",
       "    <tr>\n",
       "      <th>80926</th>\n",
       "      <td>0</td>\n",
       "      <td>1</td>\n",
       "      <td>0</td>\n",
       "      <td>0</td>\n",
       "      <td>0</td>\n",
       "      <td>0</td>\n",
       "      <td>0</td>\n",
       "      <td>0</td>\n",
       "      <td>0</td>\n",
       "      <td>0</td>\n",
       "      <td>...</td>\n",
       "      <td>0</td>\n",
       "      <td>0</td>\n",
       "      <td>0</td>\n",
       "      <td>0</td>\n",
       "      <td>1</td>\n",
       "      <td>0</td>\n",
       "      <td>0</td>\n",
       "      <td>0</td>\n",
       "      <td>0</td>\n",
       "      <td>0</td>\n",
       "    </tr>\n",
       "    <tr>\n",
       "      <th>67521</th>\n",
       "      <td>0</td>\n",
       "      <td>1</td>\n",
       "      <td>0</td>\n",
       "      <td>0</td>\n",
       "      <td>0</td>\n",
       "      <td>0</td>\n",
       "      <td>0</td>\n",
       "      <td>0</td>\n",
       "      <td>0</td>\n",
       "      <td>0</td>\n",
       "      <td>...</td>\n",
       "      <td>0</td>\n",
       "      <td>0</td>\n",
       "      <td>0</td>\n",
       "      <td>0</td>\n",
       "      <td>0</td>\n",
       "      <td>0</td>\n",
       "      <td>0</td>\n",
       "      <td>0</td>\n",
       "      <td>1</td>\n",
       "      <td>0</td>\n",
       "    </tr>\n",
       "  </tbody>\n",
       "</table>\n",
       "<p>5 rows × 84 columns</p>\n",
       "</div>"
      ],
      "text/plain": [
       "       protocol_type_icmp  protocol_type_tcp  protocol_type_udp  service_IRC  \\\n",
       "51258                   0                  1                  0            0   \n",
       "36617                   0                  1                  0            0   \n",
       "12474                   0                  1                  0            0   \n",
       "80926                   0                  1                  0            0   \n",
       "67521                   0                  1                  0            0   \n",
       "\n",
       "       service_X11  service_Z39_50  service_aol  service_auth  service_bgp  \\\n",
       "51258            0               0            0             1            0   \n",
       "36617            0               0            0             0            0   \n",
       "12474            0               0            0             0            0   \n",
       "80926            0               0            0             0            0   \n",
       "67521            0               0            0             0            0   \n",
       "\n",
       "       service_courier  ...  flag_REJ  flag_RSTO  flag_RSTOS0  flag_RSTR  \\\n",
       "51258                0  ...         0          0            0          0   \n",
       "36617                0  ...         0          0            0          0   \n",
       "12474                0  ...         0          0            0          0   \n",
       "80926                0  ...         0          0            0          0   \n",
       "67521                0  ...         0          0            0          0   \n",
       "\n",
       "       flag_S0  flag_S1  flag_S2  flag_S3  flag_SF  flag_SH  \n",
       "51258        1        0        0        0        0        0  \n",
       "36617        0        0        0        0        1        0  \n",
       "12474        0        0        0        0        1        0  \n",
       "80926        1        0        0        0        0        0  \n",
       "67521        0        0        0        0        1        0  \n",
       "\n",
       "[5 rows x 84 columns]"
      ]
     },
     "execution_count": 50,
     "metadata": {},
     "output_type": "execute_result"
    }
   ],
   "source": [
    "encode_features = [\"protocol_type\", \"service\", \"flag\"]\n",
    "encode_train = pd.get_dummies(train_df[encode_features])\n",
    "encode_train.sample(5)"
   ]
  },
  {
   "cell_type": "code",
   "execution_count": 51,
   "metadata": {
    "colab": {
     "base_uri": "https://localhost:8080/",
     "height": 226
    },
    "executionInfo": {
     "elapsed": 11,
     "status": "ok",
     "timestamp": 1638764693333,
     "user": {
      "displayName": "Himanshu Kumar Suman",
      "photoUrl": "https://lh3.googleusercontent.com/a/default-user=s64",
      "userId": "09836040928709692922"
     },
     "user_tz": -330
    },
    "id": "SbhOddqIudQj",
    "outputId": "5b99f183-9ed6-4361-db24-548deb1d476a"
   },
   "outputs": [
    {
     "data": {
      "text/html": [
       "<div>\n",
       "<style scoped>\n",
       "    .dataframe tbody tr th:only-of-type {\n",
       "        vertical-align: middle;\n",
       "    }\n",
       "\n",
       "    .dataframe tbody tr th {\n",
       "        vertical-align: top;\n",
       "    }\n",
       "\n",
       "    .dataframe thead th {\n",
       "        text-align: right;\n",
       "    }\n",
       "</style>\n",
       "<table border=\"1\" class=\"dataframe\">\n",
       "  <thead>\n",
       "    <tr style=\"text-align: right;\">\n",
       "      <th></th>\n",
       "      <th>protocol_type_icmp</th>\n",
       "      <th>protocol_type_tcp</th>\n",
       "      <th>protocol_type_udp</th>\n",
       "      <th>service_IRC</th>\n",
       "      <th>service_X11</th>\n",
       "      <th>service_Z39_50</th>\n",
       "      <th>service_auth</th>\n",
       "      <th>service_bgp</th>\n",
       "      <th>service_courier</th>\n",
       "      <th>service_csnet_ns</th>\n",
       "      <th>...</th>\n",
       "      <th>flag_REJ</th>\n",
       "      <th>flag_RSTO</th>\n",
       "      <th>flag_RSTOS0</th>\n",
       "      <th>flag_RSTR</th>\n",
       "      <th>flag_S0</th>\n",
       "      <th>flag_S1</th>\n",
       "      <th>flag_S2</th>\n",
       "      <th>flag_S3</th>\n",
       "      <th>flag_SF</th>\n",
       "      <th>flag_SH</th>\n",
       "    </tr>\n",
       "  </thead>\n",
       "  <tbody>\n",
       "    <tr>\n",
       "      <th>21361</th>\n",
       "      <td>0</td>\n",
       "      <td>1</td>\n",
       "      <td>0</td>\n",
       "      <td>0</td>\n",
       "      <td>0</td>\n",
       "      <td>0</td>\n",
       "      <td>0</td>\n",
       "      <td>0</td>\n",
       "      <td>0</td>\n",
       "      <td>0</td>\n",
       "      <td>...</td>\n",
       "      <td>0</td>\n",
       "      <td>0</td>\n",
       "      <td>0</td>\n",
       "      <td>0</td>\n",
       "      <td>0</td>\n",
       "      <td>0</td>\n",
       "      <td>0</td>\n",
       "      <td>0</td>\n",
       "      <td>1</td>\n",
       "      <td>0</td>\n",
       "    </tr>\n",
       "    <tr>\n",
       "      <th>21455</th>\n",
       "      <td>0</td>\n",
       "      <td>1</td>\n",
       "      <td>0</td>\n",
       "      <td>0</td>\n",
       "      <td>0</td>\n",
       "      <td>0</td>\n",
       "      <td>0</td>\n",
       "      <td>0</td>\n",
       "      <td>0</td>\n",
       "      <td>0</td>\n",
       "      <td>...</td>\n",
       "      <td>1</td>\n",
       "      <td>0</td>\n",
       "      <td>0</td>\n",
       "      <td>0</td>\n",
       "      <td>0</td>\n",
       "      <td>0</td>\n",
       "      <td>0</td>\n",
       "      <td>0</td>\n",
       "      <td>0</td>\n",
       "      <td>0</td>\n",
       "    </tr>\n",
       "    <tr>\n",
       "      <th>18554</th>\n",
       "      <td>0</td>\n",
       "      <td>1</td>\n",
       "      <td>0</td>\n",
       "      <td>0</td>\n",
       "      <td>0</td>\n",
       "      <td>0</td>\n",
       "      <td>0</td>\n",
       "      <td>0</td>\n",
       "      <td>0</td>\n",
       "      <td>0</td>\n",
       "      <td>...</td>\n",
       "      <td>0</td>\n",
       "      <td>0</td>\n",
       "      <td>0</td>\n",
       "      <td>0</td>\n",
       "      <td>0</td>\n",
       "      <td>0</td>\n",
       "      <td>0</td>\n",
       "      <td>0</td>\n",
       "      <td>1</td>\n",
       "      <td>0</td>\n",
       "    </tr>\n",
       "    <tr>\n",
       "      <th>2984</th>\n",
       "      <td>0</td>\n",
       "      <td>1</td>\n",
       "      <td>0</td>\n",
       "      <td>0</td>\n",
       "      <td>0</td>\n",
       "      <td>0</td>\n",
       "      <td>0</td>\n",
       "      <td>0</td>\n",
       "      <td>0</td>\n",
       "      <td>0</td>\n",
       "      <td>...</td>\n",
       "      <td>0</td>\n",
       "      <td>0</td>\n",
       "      <td>0</td>\n",
       "      <td>0</td>\n",
       "      <td>1</td>\n",
       "      <td>0</td>\n",
       "      <td>0</td>\n",
       "      <td>0</td>\n",
       "      <td>0</td>\n",
       "      <td>0</td>\n",
       "    </tr>\n",
       "    <tr>\n",
       "      <th>21507</th>\n",
       "      <td>1</td>\n",
       "      <td>0</td>\n",
       "      <td>0</td>\n",
       "      <td>0</td>\n",
       "      <td>0</td>\n",
       "      <td>0</td>\n",
       "      <td>0</td>\n",
       "      <td>0</td>\n",
       "      <td>0</td>\n",
       "      <td>0</td>\n",
       "      <td>...</td>\n",
       "      <td>0</td>\n",
       "      <td>0</td>\n",
       "      <td>0</td>\n",
       "      <td>0</td>\n",
       "      <td>0</td>\n",
       "      <td>0</td>\n",
       "      <td>0</td>\n",
       "      <td>0</td>\n",
       "      <td>1</td>\n",
       "      <td>0</td>\n",
       "    </tr>\n",
       "  </tbody>\n",
       "</table>\n",
       "<p>5 rows × 78 columns</p>\n",
       "</div>"
      ],
      "text/plain": [
       "       protocol_type_icmp  protocol_type_tcp  protocol_type_udp  service_IRC  \\\n",
       "21361                   0                  1                  0            0   \n",
       "21455                   0                  1                  0            0   \n",
       "18554                   0                  1                  0            0   \n",
       "2984                    0                  1                  0            0   \n",
       "21507                   1                  0                  0            0   \n",
       "\n",
       "       service_X11  service_Z39_50  service_auth  service_bgp  \\\n",
       "21361            0               0             0            0   \n",
       "21455            0               0             0            0   \n",
       "18554            0               0             0            0   \n",
       "2984             0               0             0            0   \n",
       "21507            0               0             0            0   \n",
       "\n",
       "       service_courier  service_csnet_ns  ...  flag_REJ  flag_RSTO  \\\n",
       "21361                0                 0  ...         0          0   \n",
       "21455                0                 0  ...         1          0   \n",
       "18554                0                 0  ...         0          0   \n",
       "2984                 0                 0  ...         0          0   \n",
       "21507                0                 0  ...         0          0   \n",
       "\n",
       "       flag_RSTOS0  flag_RSTR  flag_S0  flag_S1  flag_S2  flag_S3  flag_SF  \\\n",
       "21361            0          0        0        0        0        0        1   \n",
       "21455            0          0        0        0        0        0        0   \n",
       "18554            0          0        0        0        0        0        1   \n",
       "2984             0          0        1        0        0        0        0   \n",
       "21507            0          0        0        0        0        0        1   \n",
       "\n",
       "       flag_SH  \n",
       "21361        0  \n",
       "21455        0  \n",
       "18554        0  \n",
       "2984         0  \n",
       "21507        0  \n",
       "\n",
       "[5 rows x 78 columns]"
      ]
     },
     "execution_count": 51,
     "metadata": {},
     "output_type": "execute_result"
    }
   ],
   "source": [
    "encode_test = pd.get_dummies(test_df[encode_features])\n",
    "encode_test.sample(5)"
   ]
  },
  {
   "cell_type": "code",
   "execution_count": 52,
   "metadata": {
    "colab": {
     "base_uri": "https://localhost:8080/"
    },
    "executionInfo": {
     "elapsed": 10,
     "status": "ok",
     "timestamp": 1638764693333,
     "user": {
      "displayName": "Himanshu Kumar Suman",
      "photoUrl": "https://lh3.googleusercontent.com/a/default-user=s64",
      "userId": "09836040928709692922"
     },
     "user_tz": -330
    },
    "id": "TKxFpn-TumV2",
    "outputId": "46aa32e2-5b28-4b5a-a4a7-7b2f76683905"
   },
   "outputs": [
    {
     "data": {
      "text/plain": [
       "['service_http_2784',\n",
       " 'service_harvest',\n",
       " 'service_red_i',\n",
       " 'service_http_8001',\n",
       " 'service_urh_i',\n",
       " 'service_aol']"
      ]
     },
     "execution_count": 52,
     "metadata": {},
     "output_type": "execute_result"
    }
   ],
   "source": [
    "# finding difference in the test dataset\n",
    "test_index = np.arange(len(test_df.index))\n",
    "col_diff = list(set(encode_train.columns.values)-set(encode_test.columns.values))\n",
    "col_diff"
   ]
  },
  {
   "cell_type": "code",
   "execution_count": 53,
   "metadata": {
    "colab": {
     "base_uri": "https://localhost:8080/",
     "height": 206
    },
    "executionInfo": {
     "elapsed": 9,
     "status": "ok",
     "timestamp": 1638764693333,
     "user": {
      "displayName": "Himanshu Kumar Suman",
      "photoUrl": "https://lh3.googleusercontent.com/a/default-user=s64",
      "userId": "09836040928709692922"
     },
     "user_tz": -330
    },
    "id": "AusE_86Uu-dO",
    "outputId": "a0c71320-5fb2-4c78-841d-eddf2247f60a"
   },
   "outputs": [
    {
     "data": {
      "text/html": [
       "<div>\n",
       "<style scoped>\n",
       "    .dataframe tbody tr th:only-of-type {\n",
       "        vertical-align: middle;\n",
       "    }\n",
       "\n",
       "    .dataframe tbody tr th {\n",
       "        vertical-align: top;\n",
       "    }\n",
       "\n",
       "    .dataframe thead th {\n",
       "        text-align: right;\n",
       "    }\n",
       "</style>\n",
       "<table border=\"1\" class=\"dataframe\">\n",
       "  <thead>\n",
       "    <tr style=\"text-align: right;\">\n",
       "      <th></th>\n",
       "      <th>service_http_2784</th>\n",
       "      <th>service_harvest</th>\n",
       "      <th>service_red_i</th>\n",
       "      <th>service_http_8001</th>\n",
       "      <th>service_urh_i</th>\n",
       "      <th>service_aol</th>\n",
       "    </tr>\n",
       "  </thead>\n",
       "  <tbody>\n",
       "    <tr>\n",
       "      <th>8368</th>\n",
       "      <td>0</td>\n",
       "      <td>0</td>\n",
       "      <td>0</td>\n",
       "      <td>0</td>\n",
       "      <td>0</td>\n",
       "      <td>0</td>\n",
       "    </tr>\n",
       "    <tr>\n",
       "      <th>7152</th>\n",
       "      <td>0</td>\n",
       "      <td>0</td>\n",
       "      <td>0</td>\n",
       "      <td>0</td>\n",
       "      <td>0</td>\n",
       "      <td>0</td>\n",
       "    </tr>\n",
       "    <tr>\n",
       "      <th>3100</th>\n",
       "      <td>0</td>\n",
       "      <td>0</td>\n",
       "      <td>0</td>\n",
       "      <td>0</td>\n",
       "      <td>0</td>\n",
       "      <td>0</td>\n",
       "    </tr>\n",
       "    <tr>\n",
       "      <th>19995</th>\n",
       "      <td>0</td>\n",
       "      <td>0</td>\n",
       "      <td>0</td>\n",
       "      <td>0</td>\n",
       "      <td>0</td>\n",
       "      <td>0</td>\n",
       "    </tr>\n",
       "    <tr>\n",
       "      <th>11732</th>\n",
       "      <td>0</td>\n",
       "      <td>0</td>\n",
       "      <td>0</td>\n",
       "      <td>0</td>\n",
       "      <td>0</td>\n",
       "      <td>0</td>\n",
       "    </tr>\n",
       "  </tbody>\n",
       "</table>\n",
       "</div>"
      ],
      "text/plain": [
       "       service_http_2784  service_harvest  service_red_i  service_http_8001  \\\n",
       "8368                   0                0              0                  0   \n",
       "7152                   0                0              0                  0   \n",
       "3100                   0                0              0                  0   \n",
       "19995                  0                0              0                  0   \n",
       "11732                  0                0              0                  0   \n",
       "\n",
       "       service_urh_i  service_aol  \n",
       "8368               0            0  \n",
       "7152               0            0  \n",
       "3100               0            0  \n",
       "19995              0            0  \n",
       "11732              0            0  "
      ]
     },
     "execution_count": 53,
     "metadata": {},
     "output_type": "execute_result"
    }
   ],
   "source": [
    "diff_df = pd.DataFrame(0, index=test_index, columns=col_diff)\n",
    "diff_df.sample(5)"
   ]
  },
  {
   "cell_type": "code",
   "execution_count": 54,
   "metadata": {
    "executionInfo": {
     "elapsed": 9,
     "status": "ok",
     "timestamp": 1638764693333,
     "user": {
      "displayName": "Himanshu Kumar Suman",
      "photoUrl": "https://lh3.googleusercontent.com/a/default-user=s64",
      "userId": "09836040928709692922"
     },
     "user_tz": -330
    },
    "id": "s-M3SvfZvdH-"
   },
   "outputs": [],
   "source": [
    "# reorder the columns to match, append new columns and recorder the columns again\n",
    "column_order = encode_train.columns.to_list()\n",
    "encode_test = encode_test.join(diff_df)\n",
    "encode_test = encode_test[column_order].fillna(0)"
   ]
  },
  {
   "cell_type": "code",
   "execution_count": 55,
   "metadata": {
    "colab": {
     "base_uri": "https://localhost:8080/",
     "height": 255
    },
    "executionInfo": {
     "elapsed": 8,
     "status": "ok",
     "timestamp": 1638764693333,
     "user": {
      "displayName": "Himanshu Kumar Suman",
      "photoUrl": "https://lh3.googleusercontent.com/a/default-user=s64",
      "userId": "09836040928709692922"
     },
     "user_tz": -330
    },
    "id": "ZxCOEo73wOCc",
    "outputId": "69a56f28-7aab-467a-9b97-2773c844dda8"
   },
   "outputs": [
    {
     "data": {
      "text/html": [
       "<div>\n",
       "<style scoped>\n",
       "    .dataframe tbody tr th:only-of-type {\n",
       "        vertical-align: middle;\n",
       "    }\n",
       "\n",
       "    .dataframe tbody tr th {\n",
       "        vertical-align: top;\n",
       "    }\n",
       "\n",
       "    .dataframe thead th {\n",
       "        text-align: right;\n",
       "    }\n",
       "</style>\n",
       "<table border=\"1\" class=\"dataframe\">\n",
       "  <thead>\n",
       "    <tr style=\"text-align: right;\">\n",
       "      <th></th>\n",
       "      <th>protocol_type_icmp</th>\n",
       "      <th>protocol_type_tcp</th>\n",
       "      <th>protocol_type_udp</th>\n",
       "      <th>service_IRC</th>\n",
       "      <th>service_X11</th>\n",
       "      <th>service_Z39_50</th>\n",
       "      <th>service_aol</th>\n",
       "      <th>service_auth</th>\n",
       "      <th>service_bgp</th>\n",
       "      <th>service_courier</th>\n",
       "      <th>...</th>\n",
       "      <th>flag_RSTR</th>\n",
       "      <th>flag_S0</th>\n",
       "      <th>flag_S1</th>\n",
       "      <th>flag_S2</th>\n",
       "      <th>flag_S3</th>\n",
       "      <th>flag_SF</th>\n",
       "      <th>flag_SH</th>\n",
       "      <th>duration</th>\n",
       "      <th>src_bytes</th>\n",
       "      <th>dst_bytes</th>\n",
       "    </tr>\n",
       "  </thead>\n",
       "  <tbody>\n",
       "    <tr>\n",
       "      <th>0</th>\n",
       "      <td>0</td>\n",
       "      <td>0</td>\n",
       "      <td>1</td>\n",
       "      <td>0</td>\n",
       "      <td>0</td>\n",
       "      <td>0</td>\n",
       "      <td>0</td>\n",
       "      <td>0</td>\n",
       "      <td>0</td>\n",
       "      <td>0</td>\n",
       "      <td>...</td>\n",
       "      <td>0</td>\n",
       "      <td>0</td>\n",
       "      <td>0</td>\n",
       "      <td>0</td>\n",
       "      <td>0</td>\n",
       "      <td>1</td>\n",
       "      <td>0</td>\n",
       "      <td>0</td>\n",
       "      <td>146</td>\n",
       "      <td>0</td>\n",
       "    </tr>\n",
       "    <tr>\n",
       "      <th>1</th>\n",
       "      <td>0</td>\n",
       "      <td>1</td>\n",
       "      <td>0</td>\n",
       "      <td>0</td>\n",
       "      <td>0</td>\n",
       "      <td>0</td>\n",
       "      <td>0</td>\n",
       "      <td>0</td>\n",
       "      <td>0</td>\n",
       "      <td>0</td>\n",
       "      <td>...</td>\n",
       "      <td>0</td>\n",
       "      <td>1</td>\n",
       "      <td>0</td>\n",
       "      <td>0</td>\n",
       "      <td>0</td>\n",
       "      <td>0</td>\n",
       "      <td>0</td>\n",
       "      <td>0</td>\n",
       "      <td>0</td>\n",
       "      <td>0</td>\n",
       "    </tr>\n",
       "    <tr>\n",
       "      <th>2</th>\n",
       "      <td>0</td>\n",
       "      <td>1</td>\n",
       "      <td>0</td>\n",
       "      <td>0</td>\n",
       "      <td>0</td>\n",
       "      <td>0</td>\n",
       "      <td>0</td>\n",
       "      <td>0</td>\n",
       "      <td>0</td>\n",
       "      <td>0</td>\n",
       "      <td>...</td>\n",
       "      <td>0</td>\n",
       "      <td>0</td>\n",
       "      <td>0</td>\n",
       "      <td>0</td>\n",
       "      <td>0</td>\n",
       "      <td>1</td>\n",
       "      <td>0</td>\n",
       "      <td>0</td>\n",
       "      <td>232</td>\n",
       "      <td>8153</td>\n",
       "    </tr>\n",
       "    <tr>\n",
       "      <th>3</th>\n",
       "      <td>0</td>\n",
       "      <td>1</td>\n",
       "      <td>0</td>\n",
       "      <td>0</td>\n",
       "      <td>0</td>\n",
       "      <td>0</td>\n",
       "      <td>0</td>\n",
       "      <td>0</td>\n",
       "      <td>0</td>\n",
       "      <td>0</td>\n",
       "      <td>...</td>\n",
       "      <td>0</td>\n",
       "      <td>0</td>\n",
       "      <td>0</td>\n",
       "      <td>0</td>\n",
       "      <td>0</td>\n",
       "      <td>1</td>\n",
       "      <td>0</td>\n",
       "      <td>0</td>\n",
       "      <td>199</td>\n",
       "      <td>420</td>\n",
       "    </tr>\n",
       "    <tr>\n",
       "      <th>4</th>\n",
       "      <td>0</td>\n",
       "      <td>1</td>\n",
       "      <td>0</td>\n",
       "      <td>0</td>\n",
       "      <td>0</td>\n",
       "      <td>0</td>\n",
       "      <td>0</td>\n",
       "      <td>0</td>\n",
       "      <td>0</td>\n",
       "      <td>0</td>\n",
       "      <td>...</td>\n",
       "      <td>0</td>\n",
       "      <td>0</td>\n",
       "      <td>0</td>\n",
       "      <td>0</td>\n",
       "      <td>0</td>\n",
       "      <td>0</td>\n",
       "      <td>0</td>\n",
       "      <td>0</td>\n",
       "      <td>0</td>\n",
       "      <td>0</td>\n",
       "    </tr>\n",
       "  </tbody>\n",
       "</table>\n",
       "<p>5 rows × 87 columns</p>\n",
       "</div>"
      ],
      "text/plain": [
       "   protocol_type_icmp  protocol_type_tcp  protocol_type_udp  service_IRC  \\\n",
       "0                   0                  0                  1            0   \n",
       "1                   0                  1                  0            0   \n",
       "2                   0                  1                  0            0   \n",
       "3                   0                  1                  0            0   \n",
       "4                   0                  1                  0            0   \n",
       "\n",
       "   service_X11  service_Z39_50  service_aol  service_auth  service_bgp  \\\n",
       "0            0               0            0             0            0   \n",
       "1            0               0            0             0            0   \n",
       "2            0               0            0             0            0   \n",
       "3            0               0            0             0            0   \n",
       "4            0               0            0             0            0   \n",
       "\n",
       "   service_courier  ...  flag_RSTR  flag_S0  flag_S1  flag_S2  flag_S3  \\\n",
       "0                0  ...          0        0        0        0        0   \n",
       "1                0  ...          0        1        0        0        0   \n",
       "2                0  ...          0        0        0        0        0   \n",
       "3                0  ...          0        0        0        0        0   \n",
       "4                0  ...          0        0        0        0        0   \n",
       "\n",
       "   flag_SF  flag_SH  duration  src_bytes  dst_bytes  \n",
       "0        1        0         0        146          0  \n",
       "1        0        0         0          0          0  \n",
       "2        1        0         0        232       8153  \n",
       "3        1        0         0        199        420  \n",
       "4        0        0         0          0          0  \n",
       "\n",
       "[5 rows x 87 columns]"
      ]
     },
     "execution_count": 55,
     "metadata": {},
     "output_type": "execute_result"
    }
   ],
   "source": [
    "numeric_features = ['duration', 'src_bytes', 'dst_bytes']\n",
    "final_train = encode_train.join(train_df[numeric_features])\n",
    "final_train.head()"
   ]
  },
  {
   "cell_type": "code",
   "execution_count": 56,
   "metadata": {
    "colab": {
     "base_uri": "https://localhost:8080/",
     "height": 255
    },
    "executionInfo": {
     "elapsed": 9,
     "status": "ok",
     "timestamp": 1638764693334,
     "user": {
      "displayName": "Himanshu Kumar Suman",
      "photoUrl": "https://lh3.googleusercontent.com/a/default-user=s64",
      "userId": "09836040928709692922"
     },
     "user_tz": -330
    },
    "id": "AOJTpZhTxI8d",
    "outputId": "05434c84-02df-46f6-8082-dedecf568e59"
   },
   "outputs": [
    {
     "data": {
      "text/html": [
       "<div>\n",
       "<style scoped>\n",
       "    .dataframe tbody tr th:only-of-type {\n",
       "        vertical-align: middle;\n",
       "    }\n",
       "\n",
       "    .dataframe tbody tr th {\n",
       "        vertical-align: top;\n",
       "    }\n",
       "\n",
       "    .dataframe thead th {\n",
       "        text-align: right;\n",
       "    }\n",
       "</style>\n",
       "<table border=\"1\" class=\"dataframe\">\n",
       "  <thead>\n",
       "    <tr style=\"text-align: right;\">\n",
       "      <th></th>\n",
       "      <th>protocol_type_icmp</th>\n",
       "      <th>protocol_type_tcp</th>\n",
       "      <th>protocol_type_udp</th>\n",
       "      <th>service_IRC</th>\n",
       "      <th>service_X11</th>\n",
       "      <th>service_Z39_50</th>\n",
       "      <th>service_aol</th>\n",
       "      <th>service_auth</th>\n",
       "      <th>service_bgp</th>\n",
       "      <th>service_courier</th>\n",
       "      <th>...</th>\n",
       "      <th>flag_RSTR</th>\n",
       "      <th>flag_S0</th>\n",
       "      <th>flag_S1</th>\n",
       "      <th>flag_S2</th>\n",
       "      <th>flag_S3</th>\n",
       "      <th>flag_SF</th>\n",
       "      <th>flag_SH</th>\n",
       "      <th>duration</th>\n",
       "      <th>src_bytes</th>\n",
       "      <th>dst_bytes</th>\n",
       "    </tr>\n",
       "  </thead>\n",
       "  <tbody>\n",
       "    <tr>\n",
       "      <th>0</th>\n",
       "      <td>0</td>\n",
       "      <td>1</td>\n",
       "      <td>0</td>\n",
       "      <td>0</td>\n",
       "      <td>0</td>\n",
       "      <td>0</td>\n",
       "      <td>0</td>\n",
       "      <td>0</td>\n",
       "      <td>0</td>\n",
       "      <td>0</td>\n",
       "      <td>...</td>\n",
       "      <td>0</td>\n",
       "      <td>0</td>\n",
       "      <td>0</td>\n",
       "      <td>0</td>\n",
       "      <td>0</td>\n",
       "      <td>0</td>\n",
       "      <td>0</td>\n",
       "      <td>0</td>\n",
       "      <td>0</td>\n",
       "      <td>0</td>\n",
       "    </tr>\n",
       "    <tr>\n",
       "      <th>1</th>\n",
       "      <td>0</td>\n",
       "      <td>1</td>\n",
       "      <td>0</td>\n",
       "      <td>0</td>\n",
       "      <td>0</td>\n",
       "      <td>0</td>\n",
       "      <td>0</td>\n",
       "      <td>0</td>\n",
       "      <td>0</td>\n",
       "      <td>0</td>\n",
       "      <td>...</td>\n",
       "      <td>0</td>\n",
       "      <td>0</td>\n",
       "      <td>0</td>\n",
       "      <td>0</td>\n",
       "      <td>0</td>\n",
       "      <td>1</td>\n",
       "      <td>0</td>\n",
       "      <td>2</td>\n",
       "      <td>12983</td>\n",
       "      <td>0</td>\n",
       "    </tr>\n",
       "    <tr>\n",
       "      <th>2</th>\n",
       "      <td>1</td>\n",
       "      <td>0</td>\n",
       "      <td>0</td>\n",
       "      <td>0</td>\n",
       "      <td>0</td>\n",
       "      <td>0</td>\n",
       "      <td>0</td>\n",
       "      <td>0</td>\n",
       "      <td>0</td>\n",
       "      <td>0</td>\n",
       "      <td>...</td>\n",
       "      <td>0</td>\n",
       "      <td>0</td>\n",
       "      <td>0</td>\n",
       "      <td>0</td>\n",
       "      <td>0</td>\n",
       "      <td>1</td>\n",
       "      <td>0</td>\n",
       "      <td>0</td>\n",
       "      <td>20</td>\n",
       "      <td>0</td>\n",
       "    </tr>\n",
       "    <tr>\n",
       "      <th>3</th>\n",
       "      <td>0</td>\n",
       "      <td>1</td>\n",
       "      <td>0</td>\n",
       "      <td>0</td>\n",
       "      <td>0</td>\n",
       "      <td>0</td>\n",
       "      <td>0</td>\n",
       "      <td>0</td>\n",
       "      <td>0</td>\n",
       "      <td>0</td>\n",
       "      <td>...</td>\n",
       "      <td>0</td>\n",
       "      <td>0</td>\n",
       "      <td>0</td>\n",
       "      <td>0</td>\n",
       "      <td>0</td>\n",
       "      <td>0</td>\n",
       "      <td>0</td>\n",
       "      <td>1</td>\n",
       "      <td>0</td>\n",
       "      <td>15</td>\n",
       "    </tr>\n",
       "    <tr>\n",
       "      <th>4</th>\n",
       "      <td>0</td>\n",
       "      <td>1</td>\n",
       "      <td>0</td>\n",
       "      <td>0</td>\n",
       "      <td>0</td>\n",
       "      <td>0</td>\n",
       "      <td>0</td>\n",
       "      <td>0</td>\n",
       "      <td>0</td>\n",
       "      <td>0</td>\n",
       "      <td>...</td>\n",
       "      <td>0</td>\n",
       "      <td>0</td>\n",
       "      <td>0</td>\n",
       "      <td>0</td>\n",
       "      <td>0</td>\n",
       "      <td>1</td>\n",
       "      <td>0</td>\n",
       "      <td>0</td>\n",
       "      <td>267</td>\n",
       "      <td>14515</td>\n",
       "    </tr>\n",
       "  </tbody>\n",
       "</table>\n",
       "<p>5 rows × 87 columns</p>\n",
       "</div>"
      ],
      "text/plain": [
       "   protocol_type_icmp  protocol_type_tcp  protocol_type_udp  service_IRC  \\\n",
       "0                   0                  1                  0            0   \n",
       "1                   0                  1                  0            0   \n",
       "2                   1                  0                  0            0   \n",
       "3                   0                  1                  0            0   \n",
       "4                   0                  1                  0            0   \n",
       "\n",
       "   service_X11  service_Z39_50  service_aol  service_auth  service_bgp  \\\n",
       "0            0               0            0             0            0   \n",
       "1            0               0            0             0            0   \n",
       "2            0               0            0             0            0   \n",
       "3            0               0            0             0            0   \n",
       "4            0               0            0             0            0   \n",
       "\n",
       "   service_courier  ...  flag_RSTR  flag_S0  flag_S1  flag_S2  flag_S3  \\\n",
       "0                0  ...          0        0        0        0        0   \n",
       "1                0  ...          0        0        0        0        0   \n",
       "2                0  ...          0        0        0        0        0   \n",
       "3                0  ...          0        0        0        0        0   \n",
       "4                0  ...          0        0        0        0        0   \n",
       "\n",
       "   flag_SF  flag_SH  duration  src_bytes  dst_bytes  \n",
       "0        0        0         0          0          0  \n",
       "1        1        0         2      12983          0  \n",
       "2        1        0         0         20          0  \n",
       "3        0        0         1          0         15  \n",
       "4        1        0         0        267      14515  \n",
       "\n",
       "[5 rows x 87 columns]"
      ]
     },
     "execution_count": 56,
     "metadata": {},
     "output_type": "execute_result"
    }
   ],
   "source": [
    "final_test = encode_test.join(test_df[numeric_features])\n",
    "final_test.head()"
   ]
  },
  {
   "cell_type": "code",
   "execution_count": 57,
   "metadata": {
    "executionInfo": {
     "elapsed": 8,
     "status": "ok",
     "timestamp": 1638764693334,
     "user": {
      "displayName": "Himanshu Kumar Suman",
      "photoUrl": "https://lh3.googleusercontent.com/a/default-user=s64",
      "userId": "09836040928709692922"
     },
     "user_tz": -330
    },
    "id": "vtnrJtCxy1Fr"
   },
   "outputs": [],
   "source": [
    "# attack_map for multi-class classification & attack_flag for binary classification\n",
    "train_out = train_df[\"attack_map\"]\n",
    "test_out = test_df[\"attack_map\"]"
   ]
  },
  {
   "cell_type": "code",
   "execution_count": 58,
   "metadata": {
    "executionInfo": {
     "elapsed": 8,
     "status": "ok",
     "timestamp": 1638764693334,
     "user": {
      "displayName": "Himanshu Kumar Suman",
      "photoUrl": "https://lh3.googleusercontent.com/a/default-user=s64",
      "userId": "09836040928709692922"
     },
     "user_tz": -330
    },
    "id": "hLbpO3FobPMZ"
   },
   "outputs": [],
   "source": [
    "# get training and validation data\n",
    "X_train, X_val_test, Y_train, Y_val_test = train_test_split(final_train, train_out, test_size=0.3, shuffle=True)"
   ]
  },
  {
   "cell_type": "code",
   "execution_count": 59,
   "metadata": {
    "colab": {
     "base_uri": "https://localhost:8080/"
    },
    "executionInfo": {
     "elapsed": 11397,
     "status": "ok",
     "timestamp": 1638764704723,
     "user": {
      "displayName": "Himanshu Kumar Suman",
      "photoUrl": "https://lh3.googleusercontent.com/a/default-user=s64",
      "userId": "09836040928709692922"
     },
     "user_tz": -330
    },
    "id": "IT93SfjYzuUe",
    "outputId": "1379d05b-0fff-4f36-bd07-7061ef9380f5"
   },
   "outputs": [
    {
     "name": "stdout",
     "output_type": "stream",
     "text": [
      "===> model trained in 6.329 seconds\n",
      "Validation accuracy => 97.624%\n"
     ]
    }
   ],
   "source": [
    "model = RandomForestClassifier()\n",
    "start_time = time.time()\n",
    "model.fit(X_train, Y_train)\n",
    "total_time = time.time() - start_time\n",
    "print(\"===> model trained in %.3f seconds\" % total_time)\n",
    "predictions = model.predict(X_val_test)\n",
    "model_val_score = accuracy_score(predictions, Y_val_test) * 100\n",
    "print(\"Validation accuracy => {:.3f}%\".format(model_val_score))"
   ]
  },
  {
   "cell_type": "code",
   "execution_count": 60,
   "metadata": {
    "colab": {
     "base_uri": "https://localhost:8080/"
    },
    "executionInfo": {
     "elapsed": 712,
     "status": "ok",
     "timestamp": 1638764705433,
     "user": {
      "displayName": "Himanshu Kumar Suman",
      "photoUrl": "https://lh3.googleusercontent.com/a/default-user=s64",
      "userId": "09836040928709692922"
     },
     "user_tz": -330
    },
    "id": "zX4TWdE_2lV5",
    "outputId": "62dfe626-1cc6-4b94-a516-fa1d85ff1bc6"
   },
   "outputs": [
    {
     "name": "stdout",
     "output_type": "stream",
     "text": [
      "Validation accuracy => 73.198%\n"
     ]
    }
   ],
   "source": [
    "predictions = model.predict(final_test)\n",
    "model_score = accuracy_score(predictions, test_out) * 100\n",
    "print(\"Validation accuracy => {:.3f}%\".format(model_score))"
   ]
  },
  {
   "cell_type": "code",
   "execution_count": 50,
   "metadata": {
    "executionInfo": {
     "elapsed": 4,
     "status": "ok",
     "timestamp": 1638764705434,
     "user": {
      "displayName": "Himanshu Kumar Suman",
      "photoUrl": "https://lh3.googleusercontent.com/a/default-user=s64",
      "userId": "09836040928709692922"
     },
     "user_tz": -330
    },
    "id": "R5-BoWtC6qQl"
   },
   "outputs": [],
   "source": []
  }
 ],
 "metadata": {
  "colab": {
   "collapsed_sections": [],
   "name": "IDS_data_analysis.ipynb",
   "provenance": []
  },
  "kernelspec": {
   "display_name": "tensorflow_gpu",
   "language": "python",
   "name": "tensorflow_gpu"
  },
  "language_info": {
   "codemirror_mode": {
    "name": "ipython",
    "version": 3
   },
   "file_extension": ".py",
   "mimetype": "text/x-python",
   "name": "python",
   "nbconvert_exporter": "python",
   "pygments_lexer": "ipython3",
   "version": "3.7.9"
  }
 },
 "nbformat": 4,
 "nbformat_minor": 1
}
